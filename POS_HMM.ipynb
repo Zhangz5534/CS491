{
  "metadata": {
    "kernelspec": {
      "language": "python",
      "display_name": "Python 3",
      "name": "python3"
    },
    "language_info": {
      "pygments_lexer": "ipython3",
      "nbconvert_exporter": "python",
      "version": "3.6.4",
      "file_extension": ".py",
      "codemirror_mode": {
        "name": "ipython",
        "version": 3
      },
      "name": "python",
      "mimetype": "text/x-python"
    },
    "kaggle": {
      "accelerator": "none",
      "dataSources": [],
      "dockerImageVersionId": 29980,
      "isInternetEnabled": false,
      "language": "python",
      "sourceType": "notebook",
      "isGpuEnabled": false
    },
    "colab": {
      "provenance": [],
      "collapsed_sections": [
        "serfRTOd94Ie"
      ],
      "include_colab_link": true
    }
  },
  "nbformat_minor": 0,
  "nbformat": 4,
  "cells": [
    {
      "cell_type": "markdown",
      "metadata": {
        "id": "view-in-github",
        "colab_type": "text"
      },
      "source": [
        "<a href=\"https://colab.research.google.com/github/Zhangz5534/CS491/blob/main/POS_HMM.ipynb\" target=\"_parent\"><img src=\"https://colab.research.google.com/assets/colab-badge.svg\" alt=\"Open In Colab\"/></a>"
      ]
    },
    {
      "cell_type": "markdown",
      "source": [
        "# Download necessary resources"
      ],
      "metadata": {
        "id": "793B4ynKKfM2"
      }
    },
    {
      "cell_type": "code",
      "source": [
        "import numpy as np\n",
        "import pandas as pd\n",
        "import nltk\n",
        "\n",
        "nltk.download('brown')\n",
        "from nltk.corpus import brown\n",
        "\n",
        "\n",
        "nltk.download('universal_tagset')\n",
        "\n",
        "brown_tagged_sents = brown.tagged_sents(tagset='universal')\n"
      ],
      "metadata": {
        "_uuid": "8f2839f25d086af736a60e9eeb907d3b93b6e0e5",
        "_cell_guid": "b1076dfc-b9ad-4769-8c92-a6c4dae69d19",
        "trusted": true,
        "colab": {
          "base_uri": "https://localhost:8080/"
        },
        "id": "SL658GqKWMgG",
        "outputId": "fd18fd33-7ad4-48f7-b6e2-08a8de3b84d6"
      },
      "execution_count": 8,
      "outputs": [
        {
          "output_type": "stream",
          "name": "stderr",
          "text": [
            "[nltk_data] Downloading package brown to /root/nltk_data...\n",
            "[nltk_data]   Package brown is already up-to-date!\n",
            "[nltk_data] Downloading package universal_tagset to /root/nltk_data...\n",
            "[nltk_data]   Package universal_tagset is already up-to-date!\n"
          ]
        }
      ]
    },
    {
      "cell_type": "code",
      "source": [
        "brown_tagged_sents"
      ],
      "metadata": {
        "colab": {
          "base_uri": "https://localhost:8080/"
        },
        "id": "u4Cprhkd6ny8",
        "outputId": "4a20ff31-da78-48d5-fbe5-c065891de034"
      },
      "execution_count": 9,
      "outputs": [
        {
          "output_type": "execute_result",
          "data": {
            "text/plain": [
              "[[('The', 'DET'), ('Fulton', 'NOUN'), ('County', 'NOUN'), ('Grand', 'ADJ'), ('Jury', 'NOUN'), ('said', 'VERB'), ('Friday', 'NOUN'), ('an', 'DET'), ('investigation', 'NOUN'), ('of', 'ADP'), (\"Atlanta's\", 'NOUN'), ('recent', 'ADJ'), ('primary', 'NOUN'), ('election', 'NOUN'), ('produced', 'VERB'), ('``', '.'), ('no', 'DET'), ('evidence', 'NOUN'), (\"''\", '.'), ('that', 'ADP'), ('any', 'DET'), ('irregularities', 'NOUN'), ('took', 'VERB'), ('place', 'NOUN'), ('.', '.')], [('The', 'DET'), ('jury', 'NOUN'), ('further', 'ADV'), ('said', 'VERB'), ('in', 'ADP'), ('term-end', 'NOUN'), ('presentments', 'NOUN'), ('that', 'ADP'), ('the', 'DET'), ('City', 'NOUN'), ('Executive', 'ADJ'), ('Committee', 'NOUN'), (',', '.'), ('which', 'DET'), ('had', 'VERB'), ('over-all', 'ADJ'), ('charge', 'NOUN'), ('of', 'ADP'), ('the', 'DET'), ('election', 'NOUN'), (',', '.'), ('``', '.'), ('deserves', 'VERB'), ('the', 'DET'), ('praise', 'NOUN'), ('and', 'CONJ'), ('thanks', 'NOUN'), ('of', 'ADP'), ('the', 'DET'), ('City', 'NOUN'), ('of', 'ADP'), ('Atlanta', 'NOUN'), (\"''\", '.'), ('for', 'ADP'), ('the', 'DET'), ('manner', 'NOUN'), ('in', 'ADP'), ('which', 'DET'), ('the', 'DET'), ('election', 'NOUN'), ('was', 'VERB'), ('conducted', 'VERB'), ('.', '.')], ...]"
            ]
          },
          "metadata": {},
          "execution_count": 9
        }
      ]
    },
    {
      "cell_type": "markdown",
      "source": [
        "#Test"
      ],
      "metadata": {
        "id": "43TNS9EXLa6Y"
      }
    },
    {
      "cell_type": "code",
      "source": [
        "nltk.download('punkt')\n",
        "from nltk.tokenize import word_tokenize"
      ],
      "metadata": {
        "id": "szmr3V_EULM0",
        "outputId": "99611bb0-b098-41ac-903d-48f6075fe17c",
        "colab": {
          "base_uri": "https://localhost:8080/"
        }
      },
      "execution_count": 3,
      "outputs": [
        {
          "output_type": "stream",
          "name": "stderr",
          "text": [
            "[nltk_data] Downloading package punkt to /root/nltk_data...\n",
            "[nltk_data]   Unzipping tokenizers/punkt.zip.\n"
          ]
        }
      ]
    },
    {
      "cell_type": "code",
      "source": [
        "# Your example sentence\n",
        "#sentence = \"I go home by bus\"\n",
        "sentence = \"The big cat sat on the mat in the kitchen\""
      ],
      "metadata": {
        "id": "UtBxjusYUPS_"
      },
      "execution_count": 4,
      "outputs": []
    },
    {
      "cell_type": "code",
      "source": [
        "# Tokenize the sentence and convert to lowercase\n",
        "tokens = [word.lower() for word in word_tokenize(sentence)]"
      ],
      "metadata": {
        "id": "dEbokLyxUP1L"
      },
      "execution_count": 5,
      "outputs": []
    },
    {
      "cell_type": "code",
      "source": [
        "# Get the set of unique words in the Brown corpus\n",
        "brown_words = set(brown.words())"
      ],
      "metadata": {
        "id": "kc1pAEGuUSDT"
      },
      "execution_count": 6,
      "outputs": []
    },
    {
      "cell_type": "code",
      "source": [
        "# Check if all tokens are in the Brown corpus\n",
        "all_in_corpus = all(token in brown_words for token in tokens)\n",
        "print(all_in_corpus)"
      ],
      "metadata": {
        "id": "_XNguOV-UUYc",
        "outputId": "55b30d2d-bb84-441f-a6dd-4a5b0296c1bc",
        "colab": {
          "base_uri": "https://localhost:8080/"
        }
      },
      "execution_count": 7,
      "outputs": [
        {
          "output_type": "stream",
          "name": "stdout",
          "text": [
            "True\n"
          ]
        }
      ]
    },
    {
      "cell_type": "markdown",
      "source": [
        "#Viterbi algorithm"
      ],
      "metadata": {
        "id": "_J9DxOqCLUDb"
      }
    },
    {
      "cell_type": "code",
      "source": [
        "brown_tagged_sents = brown.tagged_sents(tagset='universal')\n",
        "brown_tagged_sents = [[('START', 'START')] + sentence + [('END', 'END')] for sentence in brown_tagged_sents]\n",
        "# We adding to each sentence a start and end. We can think of 'Start' as a part of speech and also as a word.\n",
        "\n",
        "brown_word_tags = [word_tag for sentence in brown_tagged_sents for word_tag in sentence]\n",
        "\n",
        "# Extract the sequence of tags from the original list of (word, tag) pairs\n",
        "tags = [tag for word, tag in brown_word_tags]\n",
        "\n",
        "# Create pairs of consecutive tags\n",
        "tag_pairs = [(tags[i], tags[i+1]) for i in range(len(tags)-1)]\n",
        "\n",
        "# Create a CFD from the pairs of consecutive tags\n",
        "cfd_tag_transitions = nltk.ConditionalFreqDist(tag_pairs)\n",
        "\n",
        "# Convert the CFD into a CPD for transition probabilities\n",
        "cpd_tag_transitions = nltk.ConditionalProbDist(cfd_tag_transitions, nltk.MLEProbDist)\n",
        "\n",
        "tag_word_pairs = [(tag, word) for word, tag in brown_word_tags]\n",
        "#reversing the ordering since we want to find prob(word|tag)\n",
        "\n",
        "#Getting the conditional frequency distribution for the words which are tagged\n",
        "cfd_word_given_tag=nltk.ConditionalFreqDist(tag_word_pairs)\n",
        "\n",
        "# Create a ConditionalProbDist for emission probabilities\n",
        "cpd_emission = nltk.ConditionalProbDist(cfd_word_given_tag, nltk.MLEProbDist)\n",
        "# LaplaceProbDist is an alternative to MLE"
      ],
      "metadata": {
        "id": "jor2XsEngB0X"
      },
      "execution_count": 10,
      "outputs": []
    },
    {
      "cell_type": "code",
      "source": [
        "import math"
      ],
      "metadata": {
        "id": "ZwIiRhZZWKp_"
      },
      "execution_count": 11,
      "outputs": []
    },
    {
      "cell_type": "code",
      "source": [
        "def viterbi(observed_words, cpd_tag_transitions, cpd_emission, states):\n",
        "    # Initialize the dynamic programming table to store log probabilities\n",
        "    V = [{}]\n",
        "    path = {}\n",
        "\n",
        "    # Initialize base case (t == 0)\n",
        "    for state in states:\n",
        "        emission_prob = cpd_emission[state].logprob(observed_words[0])\n",
        "        if emission_prob == float('-inf'):\n",
        "            emission_prob = -1e10  # Handling for unknown words\n",
        "        V[0][state] = cpd_tag_transitions['START'].logprob(state) + emission_prob\n",
        "        path[state] = [state]\n",
        "\n",
        "    # Run Viterbi for t > 0\n",
        "    for t in range(1, len(observed_words)):\n",
        "        V.append({})\n",
        "        newpath = {}\n",
        "\n",
        "        for cur_state in states:\n",
        "            # Check if state is 'START' or 'END'\n",
        "            if cur_state in ['START', 'END']:\n",
        "                continue\n",
        "\n",
        "            # Select the state transition path with the maximum log probability\n",
        "            (prob, state) = max(\n",
        "                (V[t-1][prev_state] + cpd_tag_transitions[prev_state].logprob(cur_state) +\n",
        "                 cpd_emission[cur_state].logprob(observed_words[t]), prev_state)\n",
        "                for prev_state in states if prev_state not in ['START', 'END']\n",
        "            )\n",
        "\n",
        "            V[t][cur_state] = prob\n",
        "            newpath[cur_state] = path[state] + [cur_state]\n",
        "\n",
        "        # Don't need to remember the old paths\n",
        "        path = newpath\n",
        "\n",
        "    # Add a final step for transition to 'END' state\n",
        "    logprob, state = max((V[len(observed_words) - 1][state] + cpd_tag_transitions[state].logprob('END'), state)\n",
        "                         for state in states if state not in ['START', 'END'])\n",
        "    return (logprob, path[state])"
      ],
      "metadata": {
        "id": "whsZEmbu0vp2"
      },
      "execution_count": 12,
      "outputs": []
    },
    {
      "cell_type": "code",
      "source": [
        "# Example sage 1\n",
        "observed_words = [\"I\", \"go\", \"home\", \"by\",\"bus\"]\n",
        "states = ['NOUN', 'VERB', 'PRON', 'ADJ', 'ADV', 'ADP', 'CONJ', 'DET', 'NUM', 'PRT', 'X', 'START', 'END']\n",
        "(prob, sequence) = viterbi(observed_words, cpd_tag_transitions, cpd_emission, states)\n",
        "print(f\"Probability of the best tag sequence: {prob}\")\n",
        "print(f\"Best tag sequence: {sequence}\")"
      ],
      "metadata": {
        "id": "GeOZe1lpVhXn",
        "outputId": "ddff7295-49c5-47e4-b5ab-0c9c847162fb",
        "colab": {
          "base_uri": "https://localhost:8080/"
        }
      },
      "execution_count": 13,
      "outputs": [
        {
          "output_type": "stream",
          "name": "stdout",
          "text": [
            "Probability of the best tag sequence: -57.09103292304131\n",
            "Best tag sequence: ['PRON', 'VERB', 'NOUN', 'ADP', 'NOUN']\n"
          ]
        }
      ]
    },
    {
      "cell_type": "code",
      "source": [
        "# Example sage 2\n",
        "observed_words = [\"The\", \"big\", \"cat\" ,\"sat\" ,\"on\", \"the\" ,\"mat\" ,\"in\", \"the\", \"kitchen\"]\n",
        "states = ['NOUN', 'VERB', 'PRON', 'ADJ', 'ADV', 'ADP', 'CONJ', 'DET', 'NUM', 'PRT', 'X', 'START', 'END']\n",
        "(prob, sequence) = viterbi(observed_words, cpd_tag_transitions, cpd_emission, states)\n",
        "print(f\"Probability of the best tag sequence: {prob}\")\n",
        "print(f\"Best tag sequence: {sequence}\")"
      ],
      "metadata": {
        "id": "mYjDgN9ji8N0",
        "colab": {
          "base_uri": "https://localhost:8080/"
        },
        "outputId": "e97a0dda-d790-4994-bd9c-ade226b8f377"
      },
      "execution_count": 14,
      "outputs": [
        {
          "output_type": "stream",
          "name": "stdout",
          "text": [
            "Probability of the best tag sequence: -97.31195998201548\n",
            "Best tag sequence: ['DET', 'ADJ', 'NOUN', 'VERB', 'ADP', 'DET', 'NOUN', 'ADP', 'DET', 'NOUN']\n"
          ]
        }
      ]
    },
    {
      "cell_type": "code",
      "source": [],
      "metadata": {
        "id": "MP9vpY8-1ZZM"
      },
      "execution_count": 14,
      "outputs": []
    }
  ]
}
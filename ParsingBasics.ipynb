{
  "nbformat": 4,
  "nbformat_minor": 0,
  "metadata": {
    "colab": {
      "provenance": [],
      "collapsed_sections": [
        "t5WbWUmcB1A_",
        "OfRYU89CB8-u",
        "8ZHXr_x28KMF",
        "wSC1oXA19Mda"
      ],
      "toc_visible": true
    },
    "kernelspec": {
      "name": "python3",
      "display_name": "Python 3"
    },
    "language_info": {
      "name": "python"
    }
  },
  "cells": [
    {
      "cell_type": "markdown",
      "source": [
        "# Initialize things"
      ],
      "metadata": {
        "id": "t5WbWUmcB1A_"
      }
    },
    {
      "cell_type": "code",
      "execution_count": 187,
      "metadata": {
        "colab": {
          "base_uri": "https://localhost:8080/"
        },
        "id": "4FyUaGuo4MsF",
        "outputId": "a6311c4b-9694-486a-a5e6-e73b88cefb5a"
      },
      "outputs": [
        {
          "output_type": "stream",
          "name": "stderr",
          "text": [
            "[nltk_data] Downloading package punkt to /root/nltk_data...\n",
            "[nltk_data]   Package punkt is already up-to-date!\n"
          ]
        }
      ],
      "source": [
        "import nltk\n",
        "from nltk.tokenize import sent_tokenize\n",
        "nltk.download('punkt')\n",
        "\n",
        "import graphviz"
      ]
    },
    {
      "cell_type": "code",
      "source": [
        "nltk.download('averaged_perceptron_tagger')"
      ],
      "metadata": {
        "colab": {
          "base_uri": "https://localhost:8080/"
        },
        "id": "6YM5N09l4QOg",
        "outputId": "fadbf20b-e802-4ca0-ee05-b1d601d2a4c3"
      },
      "execution_count": 188,
      "outputs": [
        {
          "output_type": "stream",
          "name": "stderr",
          "text": [
            "[nltk_data] Downloading package averaged_perceptron_tagger to\n",
            "[nltk_data]     /root/nltk_data...\n",
            "[nltk_data]   Package averaged_perceptron_tagger is already up-to-\n",
            "[nltk_data]       date!\n"
          ]
        },
        {
          "output_type": "execute_result",
          "data": {
            "text/plain": [
              "True"
            ]
          },
          "metadata": {},
          "execution_count": 188
        }
      ]
    },
    {
      "cell_type": "code",
      "source": [
        "# Function to convert NLTK tree to graphviz source\n",
        "def to_graphviz(tree):\n",
        "    dot = graphviz.Digraph(comment='Parse Tree')\n",
        "\n",
        "    def add_nodes_edges(tree, dot, parent_index=None, index=0):\n",
        "        node_index = index\n",
        "        if isinstance(tree, nltk.Tree):\n",
        "            node_label = tree.label()\n",
        "            dot.node(str(node_index), node_label)\n",
        "            if parent_index is not None:\n",
        "                dot.edge(str(parent_index), str(node_index))\n",
        "            for child in tree:\n",
        "                index += 1\n",
        "                index = add_nodes_edges(child, dot, node_index, index)\n",
        "        else:\n",
        "            # Leaf node\n",
        "            dot.node(str(index), str(tree))\n",
        "            if parent_index is not None:\n",
        "                dot.edge(str(parent_index), str(index))\n",
        "        return index\n",
        "\n",
        "    add_nodes_edges(tree, dot)\n",
        "    return dot\n",
        "\n",
        "\n",
        "# Convert tree to graphviz source and display\n",
        "\n"
      ],
      "metadata": {
        "id": "hsXp8ZgC5-vf"
      },
      "execution_count": 189,
      "outputs": []
    },
    {
      "cell_type": "markdown",
      "source": [
        "# sentences and grammars: chunking\n"
      ],
      "metadata": {
        "id": "OfRYU89CB8-u"
      }
    },
    {
      "cell_type": "code",
      "source": [
        "# Some possible grammars to create parse tree\n",
        "# grammar=\" \" #empty grammar\n",
        "# grammar = \"NP: {<JJ><NN>}\"\n",
        "# grammar = \"NP: {<DT>?<JJ>*<NN>}\"\n",
        "\n",
        "grammar = \"\"\"\n",
        "    NP: {<DT>?<JJ>*<NN>}                      # Noun Phrase\n",
        "    VP: {<VB.*><NP|PP>+}                      # Verb Phrase\n",
        "    PP: {<IN><NP>}                            # Prepositional Phrase\n",
        "    ADJP: {<RB>*<JJ>}                         # Adjective Phrase\n",
        "    CS: {<NP><VP><CC><NP><VP>}                # Compound Sentence\n",
        "    NER: {<NNP>+}                             # Named Entity Recognition\n",
        "\"\"\"\n",
        "\n",
        "parser = nltk.RegexpParser(grammar)"
      ],
      "metadata": {
        "id": "DusXhKnN5P8W"
      },
      "execution_count": 289,
      "outputs": []
    },
    {
      "cell_type": "code",
      "source": [
        "# Menu of sentences to be tagged #\n",
        "#sentence=\"See Spot run.\"\n",
        "#sentence=\"The quick brown fox jumped over the lazy dog.\"\n",
        " #sentence = \"At eight o'clock on Thursday morning Arthur didn't feel very good.\"\n",
        "# sentence='They can fish.'\n",
        "# sentence='Flying planes can be dangerous'\n",
        "sentence = \"The chicken is ready to eat\"\n",
        "print(sentence)"
      ],
      "metadata": {
        "colab": {
          "base_uri": "https://localhost:8080/"
        },
        "id": "47yaMnLL4iDg",
        "outputId": "9d2091d6-3191-4dbc-d742-e88a68833e19"
      },
      "execution_count": 290,
      "outputs": [
        {
          "output_type": "stream",
          "name": "stdout",
          "text": [
            "The chicken is ready to eat\n"
          ]
        }
      ]
    },
    {
      "cell_type": "code",
      "source": [
        "#  Tokenizing and tagging\n",
        "tokens = nltk.word_tokenize(sentence)\n",
        "tagged = nltk.pos_tag(tokens)\n",
        "print(f'tokens are {tokens}')\n",
        "print(f'POS tags are {tagged}')"
      ],
      "metadata": {
        "colab": {
          "base_uri": "https://localhost:8080/"
        },
        "id": "j0qrh3ui5AKw",
        "outputId": "b2f49e84-726c-49b2-a82b-869fd68813a1"
      },
      "execution_count": 291,
      "outputs": [
        {
          "output_type": "stream",
          "name": "stdout",
          "text": [
            "tokens are ['The', 'chicken', 'is', 'ready', 'to', 'eat']\n",
            "POS tags are [('The', 'DT'), ('chicken', 'NN'), ('is', 'VBZ'), ('ready', 'JJ'), ('to', 'TO'), ('eat', 'VB')]\n"
          ]
        }
      ]
    },
    {
      "cell_type": "code",
      "source": [
        "# Create tree\n",
        "tree = parser.parse(tagged)\n",
        "print(tree)"
      ],
      "metadata": {
        "colab": {
          "base_uri": "https://localhost:8080/"
        },
        "id": "ZffIRqiE56Yw",
        "outputId": "8264d414-1407-4661-ec5f-88b93530641b"
      },
      "execution_count": 292,
      "outputs": [
        {
          "output_type": "stream",
          "name": "stdout",
          "text": [
            "(S (NP The/DT chicken/NN) is/VBZ (ADJP ready/JJ) to/TO eat/VB)\n"
          ]
        }
      ]
    },
    {
      "cell_type": "code",
      "source": [
        "dot_source = to_graphviz(tree)\n",
        "display(dot_source)"
      ],
      "metadata": {
        "colab": {
          "base_uri": "https://localhost:8080/",
          "height": 272
        },
        "id": "pHIIyL9dDYyF",
        "outputId": "6736e392-c4c6-4d25-d9c1-2e5d65dc08cb"
      },
      "execution_count": 293,
      "outputs": [
        {
          "output_type": "display_data",
          "data": {
            "image/svg+xml": "<?xml version=\"1.0\" encoding=\"UTF-8\" standalone=\"no\"?>\n<!DOCTYPE svg PUBLIC \"-//W3C//DTD SVG 1.1//EN\"\n \"http://www.w3.org/Graphics/SVG/1.1/DTD/svg11.dtd\">\n<!-- Generated by graphviz version 2.43.0 (0)\n -->\n<!-- Title: %3 Pages: 1 -->\n<svg width=\"627pt\" height=\"188pt\"\n viewBox=\"0.00 0.00 626.69 188.00\" xmlns=\"http://www.w3.org/2000/svg\" xmlns:xlink=\"http://www.w3.org/1999/xlink\">\n<g id=\"graph0\" class=\"graph\" transform=\"scale(1 1) rotate(0) translate(4 184)\">\n<title>%3</title>\n<polygon fill=\"white\" stroke=\"transparent\" points=\"-4,4 -4,-184 622.69,-184 622.69,4 -4,4\"/>\n<!-- 0 -->\n<g id=\"node1\" class=\"node\">\n<title>0</title>\n<ellipse fill=\"none\" stroke=\"black\" cx=\"358.65\" cy=\"-162\" rx=\"27\" ry=\"18\"/>\n<text text-anchor=\"middle\" x=\"358.65\" y=\"-158.3\" font-family=\"Times,serif\" font-size=\"14.00\">S</text>\n</g>\n<!-- 1 -->\n<g id=\"node2\" class=\"node\">\n<title>1</title>\n<ellipse fill=\"none\" stroke=\"black\" cx=\"161.65\" cy=\"-90\" rx=\"27\" ry=\"18\"/>\n<text text-anchor=\"middle\" x=\"161.65\" y=\"-86.3\" font-family=\"Times,serif\" font-size=\"14.00\">NP</text>\n</g>\n<!-- 0&#45;&gt;1 -->\n<g id=\"edge1\" class=\"edge\">\n<title>0&#45;&gt;1</title>\n<path fill=\"none\" stroke=\"black\" d=\"M334.31,-154.01C302.49,-144.64 245.2,-126.97 197.65,-108 195.82,-107.27 193.95,-106.49 192.07,-105.69\"/>\n<polygon fill=\"black\" stroke=\"black\" points=\"193.33,-102.41 182.77,-101.51 190.46,-108.8 193.33,-102.41\"/>\n</g>\n<!-- 4 -->\n<g id=\"node5\" class=\"node\">\n<title>4</title>\n<ellipse fill=\"none\" stroke=\"black\" cx=\"257.65\" cy=\"-90\" rx=\"50.89\" ry=\"18\"/>\n<text text-anchor=\"middle\" x=\"257.65\" y=\"-86.3\" font-family=\"Times,serif\" font-size=\"14.00\">(&#39;is&#39;, &#39;VBZ&#39;)</text>\n</g>\n<!-- 0&#45;&gt;4 -->\n<g id=\"edge4\" class=\"edge\">\n<title>0&#45;&gt;4</title>\n<path fill=\"none\" stroke=\"black\" d=\"M340.59,-148.49C326.09,-138.44 305.41,-124.11 288.33,-112.27\"/>\n<polygon fill=\"black\" stroke=\"black\" points=\"289.99,-109.16 279.78,-106.34 286,-114.91 289.99,-109.16\"/>\n</g>\n<!-- 5 -->\n<g id=\"node6\" class=\"node\">\n<title>5</title>\n<ellipse fill=\"none\" stroke=\"black\" cx=\"358.65\" cy=\"-90\" rx=\"31.7\" ry=\"18\"/>\n<text text-anchor=\"middle\" x=\"358.65\" y=\"-86.3\" font-family=\"Times,serif\" font-size=\"14.00\">ADJP</text>\n</g>\n<!-- 0&#45;&gt;5 -->\n<g id=\"edge5\" class=\"edge\">\n<title>0&#45;&gt;5</title>\n<path fill=\"none\" stroke=\"black\" d=\"M358.65,-143.7C358.65,-135.98 358.65,-126.71 358.65,-118.11\"/>\n<polygon fill=\"black\" stroke=\"black\" points=\"362.15,-118.1 358.65,-108.1 355.15,-118.1 362.15,-118.1\"/>\n</g>\n<!-- 7 -->\n<g id=\"node8\" class=\"node\">\n<title>7</title>\n<ellipse fill=\"none\" stroke=\"black\" cx=\"454.65\" cy=\"-90\" rx=\"46.29\" ry=\"18\"/>\n<text text-anchor=\"middle\" x=\"454.65\" y=\"-86.3\" font-family=\"Times,serif\" font-size=\"14.00\">(&#39;to&#39;, &#39;TO&#39;)</text>\n</g>\n<!-- 0&#45;&gt;7 -->\n<g id=\"edge7\" class=\"edge\">\n<title>0&#45;&gt;7</title>\n<path fill=\"none\" stroke=\"black\" d=\"M376.25,-148.16C389.95,-138.17 409.27,-124.09 425.3,-112.4\"/>\n<polygon fill=\"black\" stroke=\"black\" points=\"427.79,-114.91 433.81,-106.19 423.67,-109.26 427.79,-114.91\"/>\n</g>\n<!-- 8 -->\n<g id=\"node9\" class=\"node\">\n<title>8</title>\n<ellipse fill=\"none\" stroke=\"black\" cx=\"568.65\" cy=\"-90\" rx=\"50.09\" ry=\"18\"/>\n<text text-anchor=\"middle\" x=\"568.65\" y=\"-86.3\" font-family=\"Times,serif\" font-size=\"14.00\">(&#39;eat&#39;, &#39;VB&#39;)</text>\n</g>\n<!-- 0&#45;&gt;8 -->\n<g id=\"edge8\" class=\"edge\">\n<title>0&#45;&gt;8</title>\n<path fill=\"none\" stroke=\"black\" d=\"M382.33,-153.11C416.46,-141.73 480.14,-120.5 523.45,-106.07\"/>\n<polygon fill=\"black\" stroke=\"black\" points=\"524.79,-109.31 533.17,-102.82 522.58,-102.67 524.79,-109.31\"/>\n</g>\n<!-- 2 -->\n<g id=\"node3\" class=\"node\">\n<title>2</title>\n<ellipse fill=\"none\" stroke=\"black\" cx=\"52.65\" cy=\"-18\" rx=\"52.79\" ry=\"18\"/>\n<text text-anchor=\"middle\" x=\"52.65\" y=\"-14.3\" font-family=\"Times,serif\" font-size=\"14.00\">(&#39;The&#39;, &#39;DT&#39;)</text>\n</g>\n<!-- 1&#45;&gt;2 -->\n<g id=\"edge2\" class=\"edge\">\n<title>1&#45;&gt;2</title>\n<path fill=\"none\" stroke=\"black\" d=\"M142.66,-76.81C126.76,-66.59 103.71,-51.79 84.92,-39.73\"/>\n<polygon fill=\"black\" stroke=\"black\" points=\"86.66,-36.69 76.36,-34.23 82.88,-42.58 86.66,-36.69\"/>\n</g>\n<!-- 3 -->\n<g id=\"node4\" class=\"node\">\n<title>3</title>\n<ellipse fill=\"none\" stroke=\"black\" cx=\"190.65\" cy=\"-18\" rx=\"67.69\" ry=\"18\"/>\n<text text-anchor=\"middle\" x=\"190.65\" y=\"-14.3\" font-family=\"Times,serif\" font-size=\"14.00\">(&#39;chicken&#39;, &#39;NN&#39;)</text>\n</g>\n<!-- 1&#45;&gt;3 -->\n<g id=\"edge3\" class=\"edge\">\n<title>1&#45;&gt;3</title>\n<path fill=\"none\" stroke=\"black\" d=\"M168.52,-72.41C171.86,-64.34 175.97,-54.43 179.73,-45.35\"/>\n<polygon fill=\"black\" stroke=\"black\" points=\"183.03,-46.53 183.62,-35.96 176.56,-43.86 183.03,-46.53\"/>\n</g>\n<!-- 6 -->\n<g id=\"node7\" class=\"node\">\n<title>6</title>\n<ellipse fill=\"none\" stroke=\"black\" cx=\"358.65\" cy=\"-18\" rx=\"53.89\" ry=\"18\"/>\n<text text-anchor=\"middle\" x=\"358.65\" y=\"-14.3\" font-family=\"Times,serif\" font-size=\"14.00\">(&#39;ready&#39;, &#39;JJ&#39;)</text>\n</g>\n<!-- 5&#45;&gt;6 -->\n<g id=\"edge6\" class=\"edge\">\n<title>5&#45;&gt;6</title>\n<path fill=\"none\" stroke=\"black\" d=\"M358.65,-71.7C358.65,-63.98 358.65,-54.71 358.65,-46.11\"/>\n<polygon fill=\"black\" stroke=\"black\" points=\"362.15,-46.1 358.65,-36.1 355.15,-46.1 362.15,-46.1\"/>\n</g>\n</g>\n</svg>\n",
            "text/plain": [
              "<graphviz.graphs.Digraph at 0x7d5ce1cfff40>"
            ]
          },
          "metadata": {}
        }
      ]
    },
    {
      "cell_type": "markdown",
      "source": [
        "# Context Free Grammars"
      ],
      "metadata": {
        "id": "9Al43XYJQcHa"
      }
    },
    {
      "cell_type": "code",
      "source": [
        "groucho_grammar = nltk.CFG.fromstring(\"\"\"\n",
        "S -> NP VP\n",
        "NP -> Det N\n",
        "VP -> V Adj Inf | VP Inf\n",
        "Det -> \"The\"\n",
        "N -> \"chicken\"\n",
        "VP -> V Adj\n",
        "V -> \"is\"\n",
        "Adj -> \"ready\"\n",
        "Inf -> \"to\" V\n",
        "V -> \"eat\"\n",
        "\"\"\")"
      ],
      "metadata": {
        "id": "5ZU_Lx9KQfpR"
      },
      "execution_count": 309,
      "outputs": []
    },
    {
      "cell_type": "code",
      "source": [
        "groucho_grammar"
      ],
      "metadata": {
        "colab": {
          "base_uri": "https://localhost:8080/"
        },
        "id": "37YmtRgjU5MI",
        "outputId": "8229a762-5641-4ece-cadb-acc451d968fe"
      },
      "execution_count": 310,
      "outputs": [
        {
          "output_type": "execute_result",
          "data": {
            "text/plain": [
              "<Grammar with 11 productions>"
            ]
          },
          "metadata": {},
          "execution_count": 310
        }
      ]
    },
    {
      "cell_type": "code",
      "source": [
        "type(groucho_grammar)"
      ],
      "metadata": {
        "colab": {
          "base_uri": "https://localhost:8080/",
          "height": 186
        },
        "id": "CTnE0m_pU9du",
        "outputId": "3234c699-ba76-4563-a17a-981a23809c12"
      },
      "execution_count": 311,
      "outputs": [
        {
          "output_type": "execute_result",
          "data": {
            "text/plain": [
              "nltk.grammar.CFG"
            ],
            "text/html": [
              "<div style=\"max-width:800px; border: 1px solid var(--colab-border-color);\"><style>\n",
              "      pre.function-repr-contents {\n",
              "        overflow-x: auto;\n",
              "        padding: 8px 12px;\n",
              "        max-height: 500px;\n",
              "      }\n",
              "\n",
              "      pre.function-repr-contents.function-repr-contents-collapsed {\n",
              "        cursor: pointer;\n",
              "        max-height: 100px;\n",
              "      }\n",
              "    </style>\n",
              "    <pre style=\"white-space: initial; background:\n",
              "         var(--colab-secondary-surface-color); padding: 8px 12px;\n",
              "         border-bottom: 1px solid var(--colab-border-color);\"><b>nltk.grammar.CFG</b><br/>def __init__(start, productions, calculate_leftcorners=True)</pre><pre class=\"function-repr-contents function-repr-contents-collapsed\" style=\"\"><a class=\"filepath\" style=\"display:none\" href=\"#\">/usr/local/lib/python3.10/dist-packages/nltk/grammar.py</a>A context-free grammar.  A grammar consists of a start state and\n",
              "a set of productions.  The set of terminals and nonterminals is\n",
              "implicitly specified by the productions.\n",
              "\n",
              "If you need efficient key-based access to productions, you\n",
              "can use a subclass to implement it.</pre>\n",
              "      <script>\n",
              "      if (google.colab.kernel.accessAllowed && google.colab.files && google.colab.files.view) {\n",
              "        for (const element of document.querySelectorAll('.filepath')) {\n",
              "          element.style.display = 'block'\n",
              "          element.onclick = (event) => {\n",
              "            event.preventDefault();\n",
              "            event.stopPropagation();\n",
              "            google.colab.files.view(element.textContent, 445);\n",
              "          };\n",
              "        }\n",
              "      }\n",
              "      for (const element of document.querySelectorAll('.function-repr-contents')) {\n",
              "        element.onclick = (event) => {\n",
              "          event.preventDefault();\n",
              "          event.stopPropagation();\n",
              "          element.classList.toggle('function-repr-contents-collapsed');\n",
              "        };\n",
              "      }\n",
              "      </script>\n",
              "      </div>"
            ]
          },
          "metadata": {},
          "execution_count": 311
        }
      ]
    },
    {
      "cell_type": "code",
      "source": [
        "groucho_grammar.start()"
      ],
      "metadata": {
        "colab": {
          "base_uri": "https://localhost:8080/"
        },
        "id": "550ty8_7VBsE",
        "outputId": "1f1ee0e1-1ec9-489a-881f-3159658ce36c"
      },
      "execution_count": 312,
      "outputs": [
        {
          "output_type": "execute_result",
          "data": {
            "text/plain": [
              "S"
            ]
          },
          "metadata": {},
          "execution_count": 312
        }
      ]
    },
    {
      "cell_type": "code",
      "source": [
        "groucho_grammar.productions()"
      ],
      "metadata": {
        "colab": {
          "base_uri": "https://localhost:8080/"
        },
        "id": "7fgAwv6aVGqS",
        "outputId": "1bbc89a6-bde6-4260-b072-4f772fd63475"
      },
      "execution_count": 313,
      "outputs": [
        {
          "output_type": "execute_result",
          "data": {
            "text/plain": [
              "[S -> NP VP,\n",
              " NP -> Det N,\n",
              " VP -> V Adj Inf,\n",
              " VP -> VP Inf,\n",
              " Det -> 'The',\n",
              " N -> 'chicken',\n",
              " VP -> V Adj,\n",
              " V -> 'is',\n",
              " Adj -> 'ready',\n",
              " Inf -> 'to' V,\n",
              " V -> 'eat']"
            ]
          },
          "metadata": {},
          "execution_count": 313
        }
      ]
    },
    {
      "cell_type": "code",
      "source": [
        "from nltk.grammar import *\n",
        "groucho_grammar.productions(lhs=Nonterminal(\"NP\"))"
      ],
      "metadata": {
        "colab": {
          "base_uri": "https://localhost:8080/"
        },
        "id": "TgqH215vVOVD",
        "outputId": "813ad92a-4168-4d06-e409-48662fe12bd7"
      },
      "execution_count": 314,
      "outputs": [
        {
          "output_type": "execute_result",
          "data": {
            "text/plain": [
              "[NP -> Det N]"
            ]
          },
          "metadata": {},
          "execution_count": 314
        }
      ]
    },
    {
      "cell_type": "code",
      "source": [
        "groucho_grammar.productions(rhs=Nonterminal(\"Det\"))"
      ],
      "metadata": {
        "colab": {
          "base_uri": "https://localhost:8080/"
        },
        "id": "wyP60QFDVZGH",
        "outputId": "51920be3-60bd-4a8e-bc1f-f74671635d88"
      },
      "execution_count": 315,
      "outputs": [
        {
          "output_type": "execute_result",
          "data": {
            "text/plain": [
              "[NP -> Det N]"
            ]
          },
          "metadata": {},
          "execution_count": 315
        }
      ]
    },
    {
      "cell_type": "code",
      "source": [
        "pp = groucho_grammar.productions(rhs=Nonterminal(\"Det\"))\n",
        "pp[0]"
      ],
      "metadata": {
        "colab": {
          "base_uri": "https://localhost:8080/"
        },
        "id": "Ga96wglKVghF",
        "outputId": "eaf69a8e-6181-4404-fb38-002bcc3127b8"
      },
      "execution_count": 316,
      "outputs": [
        {
          "output_type": "execute_result",
          "data": {
            "text/plain": [
              "NP -> Det N"
            ]
          },
          "metadata": {},
          "execution_count": 316
        }
      ]
    },
    {
      "cell_type": "code",
      "source": [
        "pp[0].lhs()"
      ],
      "metadata": {
        "colab": {
          "base_uri": "https://localhost:8080/"
        },
        "id": "vLqQyvoeVkIP",
        "outputId": "452fc461-9621-404a-d568-50e2cd52f30b"
      },
      "execution_count": 317,
      "outputs": [
        {
          "output_type": "execute_result",
          "data": {
            "text/plain": [
              "NP"
            ]
          },
          "metadata": {},
          "execution_count": 317
        }
      ]
    },
    {
      "cell_type": "code",
      "source": [
        "pp[0].rhs()"
      ],
      "metadata": {
        "colab": {
          "base_uri": "https://localhost:8080/"
        },
        "id": "qFozpl-0VlDg",
        "outputId": "3acb4b4f-5623-4fa6-d58f-9ef7c865dac0"
      },
      "execution_count": 318,
      "outputs": [
        {
          "output_type": "execute_result",
          "data": {
            "text/plain": [
              "(Det, N)"
            ]
          },
          "metadata": {},
          "execution_count": 318
        }
      ]
    },
    {
      "cell_type": "code",
      "source": [
        "sent = ['The', 'chicken', 'is', 'ready', 'to', 'eat']\n",
        "parser = nltk.ChartParser(groucho_grammar)\n",
        "trees = list(parser.parse(sent))"
      ],
      "metadata": {
        "id": "4GYPHp2oVmJ9"
      },
      "execution_count": 319,
      "outputs": []
    },
    {
      "cell_type": "code",
      "source": [
        "print(trees[0])"
      ],
      "metadata": {
        "colab": {
          "base_uri": "https://localhost:8080/"
        },
        "id": "IGtVqmqTV1J9",
        "outputId": "1989fa9b-fc17-4f6d-8c15-3e66b968518b"
      },
      "execution_count": 320,
      "outputs": [
        {
          "output_type": "stream",
          "name": "stdout",
          "text": [
            "(S\n",
            "  (NP (Det The) (N chicken))\n",
            "  (VP (VP (V is) (Adj ready)) (Inf to (V eat))))\n"
          ]
        }
      ]
    },
    {
      "cell_type": "code",
      "source": [
        "dot_source = to_graphviz(trees[0])\n",
        "display(dot_source)"
      ],
      "metadata": {
        "colab": {
          "base_uri": "https://localhost:8080/",
          "height": 464
        },
        "id": "GDRAubcIV6DZ",
        "outputId": "4eb4d0c6-bac1-40d4-fe18-deac42636280"
      },
      "execution_count": 321,
      "outputs": [
        {
          "output_type": "display_data",
          "data": {
            "image/svg+xml": "<?xml version=\"1.0\" encoding=\"UTF-8\" standalone=\"no\"?>\n<!DOCTYPE svg PUBLIC \"-//W3C//DTD SVG 1.1//EN\"\n \"http://www.w3.org/Graphics/SVG/1.1/DTD/svg11.dtd\">\n<!-- Generated by graphviz version 2.43.0 (0)\n -->\n<!-- Title: %3 Pages: 1 -->\n<svg width=\"444pt\" height=\"332pt\"\n viewBox=\"0.00 0.00 444.00 332.00\" xmlns=\"http://www.w3.org/2000/svg\" xmlns:xlink=\"http://www.w3.org/1999/xlink\">\n<g id=\"graph0\" class=\"graph\" transform=\"scale(1 1) rotate(0) translate(4 328)\">\n<title>%3</title>\n<polygon fill=\"white\" stroke=\"transparent\" points=\"-4,4 -4,-328 440,-328 440,4 -4,4\"/>\n<!-- 0 -->\n<g id=\"node1\" class=\"node\">\n<title>0</title>\n<ellipse fill=\"none\" stroke=\"black\" cx=\"151\" cy=\"-306\" rx=\"27\" ry=\"18\"/>\n<text text-anchor=\"middle\" x=\"151\" y=\"-302.3\" font-family=\"Times,serif\" font-size=\"14.00\">S</text>\n</g>\n<!-- 1 -->\n<g id=\"node2\" class=\"node\">\n<title>1</title>\n<ellipse fill=\"none\" stroke=\"black\" cx=\"110\" cy=\"-234\" rx=\"27\" ry=\"18\"/>\n<text text-anchor=\"middle\" x=\"110\" y=\"-230.3\" font-family=\"Times,serif\" font-size=\"14.00\">NP</text>\n</g>\n<!-- 0&#45;&gt;1 -->\n<g id=\"edge1\" class=\"edge\">\n<title>0&#45;&gt;1</title>\n<path fill=\"none\" stroke=\"black\" d=\"M141.49,-288.76C136.47,-280.19 130.2,-269.49 124.58,-259.9\"/>\n<polygon fill=\"black\" stroke=\"black\" points=\"127.53,-258.01 119.46,-251.15 121.49,-261.55 127.53,-258.01\"/>\n</g>\n<!-- 6 -->\n<g id=\"node7\" class=\"node\">\n<title>6</title>\n<ellipse fill=\"none\" stroke=\"black\" cx=\"229\" cy=\"-234\" rx=\"27\" ry=\"18\"/>\n<text text-anchor=\"middle\" x=\"229\" y=\"-230.3\" font-family=\"Times,serif\" font-size=\"14.00\">VP</text>\n</g>\n<!-- 0&#45;&gt;6 -->\n<g id=\"edge6\" class=\"edge\">\n<title>0&#45;&gt;6</title>\n<path fill=\"none\" stroke=\"black\" d=\"M166.41,-291.17C177.73,-281.01 193.31,-267.03 206.09,-255.56\"/>\n<polygon fill=\"black\" stroke=\"black\" points=\"208.52,-258.09 213.62,-248.8 203.84,-252.88 208.52,-258.09\"/>\n</g>\n<!-- 2 -->\n<g id=\"node3\" class=\"node\">\n<title>2</title>\n<ellipse fill=\"none\" stroke=\"black\" cx=\"33\" cy=\"-162\" rx=\"27\" ry=\"18\"/>\n<text text-anchor=\"middle\" x=\"33\" y=\"-158.3\" font-family=\"Times,serif\" font-size=\"14.00\">Det</text>\n</g>\n<!-- 1&#45;&gt;2 -->\n<g id=\"edge2\" class=\"edge\">\n<title>1&#45;&gt;2</title>\n<path fill=\"none\" stroke=\"black\" d=\"M94.42,-218.83C83.39,-208.81 68.41,-195.19 56.01,-183.92\"/>\n<polygon fill=\"black\" stroke=\"black\" points=\"58.05,-181.04 48.3,-176.91 53.34,-186.22 58.05,-181.04\"/>\n</g>\n<!-- 4 -->\n<g id=\"node5\" class=\"node\">\n<title>4</title>\n<ellipse fill=\"none\" stroke=\"black\" cx=\"110\" cy=\"-162\" rx=\"27\" ry=\"18\"/>\n<text text-anchor=\"middle\" x=\"110\" y=\"-158.3\" font-family=\"Times,serif\" font-size=\"14.00\">N</text>\n</g>\n<!-- 1&#45;&gt;4 -->\n<g id=\"edge4\" class=\"edge\">\n<title>1&#45;&gt;4</title>\n<path fill=\"none\" stroke=\"black\" d=\"M110,-215.7C110,-207.98 110,-198.71 110,-190.11\"/>\n<polygon fill=\"black\" stroke=\"black\" points=\"113.5,-190.1 110,-180.1 106.5,-190.1 113.5,-190.1\"/>\n</g>\n<!-- 3 -->\n<g id=\"node4\" class=\"node\">\n<title>3</title>\n<ellipse fill=\"none\" stroke=\"black\" cx=\"27\" cy=\"-90\" rx=\"27\" ry=\"18\"/>\n<text text-anchor=\"middle\" x=\"27\" y=\"-86.3\" font-family=\"Times,serif\" font-size=\"14.00\">The</text>\n</g>\n<!-- 2&#45;&gt;3 -->\n<g id=\"edge3\" class=\"edge\">\n<title>2&#45;&gt;3</title>\n<path fill=\"none\" stroke=\"black\" d=\"M31.52,-143.7C30.86,-135.98 30.06,-126.71 29.32,-118.11\"/>\n<polygon fill=\"black\" stroke=\"black\" points=\"32.81,-117.77 28.47,-108.1 25.83,-118.37 32.81,-117.77\"/>\n</g>\n<!-- 5 -->\n<g id=\"node6\" class=\"node\">\n<title>5</title>\n<ellipse fill=\"none\" stroke=\"black\" cx=\"110\" cy=\"-90\" rx=\"38.19\" ry=\"18\"/>\n<text text-anchor=\"middle\" x=\"110\" y=\"-86.3\" font-family=\"Times,serif\" font-size=\"14.00\">chicken</text>\n</g>\n<!-- 4&#45;&gt;5 -->\n<g id=\"edge5\" class=\"edge\">\n<title>4&#45;&gt;5</title>\n<path fill=\"none\" stroke=\"black\" d=\"M110,-143.7C110,-135.98 110,-126.71 110,-118.11\"/>\n<polygon fill=\"black\" stroke=\"black\" points=\"113.5,-118.1 110,-108.1 106.5,-118.1 113.5,-118.1\"/>\n</g>\n<!-- 7 -->\n<g id=\"node8\" class=\"node\">\n<title>7</title>\n<ellipse fill=\"none\" stroke=\"black\" cx=\"229\" cy=\"-162\" rx=\"27\" ry=\"18\"/>\n<text text-anchor=\"middle\" x=\"229\" y=\"-158.3\" font-family=\"Times,serif\" font-size=\"14.00\">VP</text>\n</g>\n<!-- 6&#45;&gt;7 -->\n<g id=\"edge7\" class=\"edge\">\n<title>6&#45;&gt;7</title>\n<path fill=\"none\" stroke=\"black\" d=\"M229,-215.7C229,-207.98 229,-198.71 229,-190.11\"/>\n<polygon fill=\"black\" stroke=\"black\" points=\"232.5,-190.1 229,-180.1 225.5,-190.1 232.5,-190.1\"/>\n</g>\n<!-- 12 -->\n<g id=\"node13\" class=\"node\">\n<title>12</title>\n<ellipse fill=\"none\" stroke=\"black\" cx=\"337\" cy=\"-162\" rx=\"27\" ry=\"18\"/>\n<text text-anchor=\"middle\" x=\"337\" y=\"-158.3\" font-family=\"Times,serif\" font-size=\"14.00\">Inf</text>\n</g>\n<!-- 6&#45;&gt;12 -->\n<g id=\"edge12\" class=\"edge\">\n<title>6&#45;&gt;12</title>\n<path fill=\"none\" stroke=\"black\" d=\"M247.81,-220.81C265,-209.67 290.62,-193.06 309.99,-180.5\"/>\n<polygon fill=\"black\" stroke=\"black\" points=\"311.92,-183.43 318.4,-175.05 308.11,-177.56 311.92,-183.43\"/>\n</g>\n<!-- 8 -->\n<g id=\"node9\" class=\"node\">\n<title>8</title>\n<ellipse fill=\"none\" stroke=\"black\" cx=\"193\" cy=\"-90\" rx=\"27\" ry=\"18\"/>\n<text text-anchor=\"middle\" x=\"193\" y=\"-86.3\" font-family=\"Times,serif\" font-size=\"14.00\">V</text>\n</g>\n<!-- 7&#45;&gt;8 -->\n<g id=\"edge8\" class=\"edge\">\n<title>7&#45;&gt;8</title>\n<path fill=\"none\" stroke=\"black\" d=\"M220.65,-144.76C216.29,-136.28 210.85,-125.71 205.96,-116.2\"/>\n<polygon fill=\"black\" stroke=\"black\" points=\"208.99,-114.44 201.3,-107.15 202.77,-117.64 208.99,-114.44\"/>\n</g>\n<!-- 10 -->\n<g id=\"node11\" class=\"node\">\n<title>10</title>\n<ellipse fill=\"none\" stroke=\"black\" cx=\"265\" cy=\"-90\" rx=\"27\" ry=\"18\"/>\n<text text-anchor=\"middle\" x=\"265\" y=\"-86.3\" font-family=\"Times,serif\" font-size=\"14.00\">Adj</text>\n</g>\n<!-- 7&#45;&gt;10 -->\n<g id=\"edge10\" class=\"edge\">\n<title>7&#45;&gt;10</title>\n<path fill=\"none\" stroke=\"black\" d=\"M237.35,-144.76C241.71,-136.28 247.15,-125.71 252.04,-116.2\"/>\n<polygon fill=\"black\" stroke=\"black\" points=\"255.23,-117.64 256.7,-107.15 249.01,-114.44 255.23,-117.64\"/>\n</g>\n<!-- 9 -->\n<g id=\"node10\" class=\"node\">\n<title>9</title>\n<ellipse fill=\"none\" stroke=\"black\" cx=\"191\" cy=\"-18\" rx=\"27\" ry=\"18\"/>\n<text text-anchor=\"middle\" x=\"191\" y=\"-14.3\" font-family=\"Times,serif\" font-size=\"14.00\">is</text>\n</g>\n<!-- 8&#45;&gt;9 -->\n<g id=\"edge9\" class=\"edge\">\n<title>8&#45;&gt;9</title>\n<path fill=\"none\" stroke=\"black\" d=\"M192.51,-71.7C192.29,-63.98 192.02,-54.71 191.77,-46.11\"/>\n<polygon fill=\"black\" stroke=\"black\" points=\"195.27,-46 191.49,-36.1 188.28,-46.2 195.27,-46\"/>\n</g>\n<!-- 11 -->\n<g id=\"node12\" class=\"node\">\n<title>11</title>\n<ellipse fill=\"none\" stroke=\"black\" cx=\"267\" cy=\"-18\" rx=\"30.59\" ry=\"18\"/>\n<text text-anchor=\"middle\" x=\"267\" y=\"-14.3\" font-family=\"Times,serif\" font-size=\"14.00\">ready</text>\n</g>\n<!-- 10&#45;&gt;11 -->\n<g id=\"edge11\" class=\"edge\">\n<title>10&#45;&gt;11</title>\n<path fill=\"none\" stroke=\"black\" d=\"M265.49,-71.7C265.71,-63.98 265.98,-54.71 266.23,-46.11\"/>\n<polygon fill=\"black\" stroke=\"black\" points=\"269.72,-46.2 266.51,-36.1 262.73,-46 269.72,-46.2\"/>\n</g>\n<!-- 13 -->\n<g id=\"node14\" class=\"node\">\n<title>13</title>\n<ellipse fill=\"none\" stroke=\"black\" cx=\"337\" cy=\"-90\" rx=\"27\" ry=\"18\"/>\n<text text-anchor=\"middle\" x=\"337\" y=\"-86.3\" font-family=\"Times,serif\" font-size=\"14.00\">to</text>\n</g>\n<!-- 12&#45;&gt;13 -->\n<g id=\"edge13\" class=\"edge\">\n<title>12&#45;&gt;13</title>\n<path fill=\"none\" stroke=\"black\" d=\"M337,-143.7C337,-135.98 337,-126.71 337,-118.11\"/>\n<polygon fill=\"black\" stroke=\"black\" points=\"340.5,-118.1 337,-108.1 333.5,-118.1 340.5,-118.1\"/>\n</g>\n<!-- 14 -->\n<g id=\"node15\" class=\"node\">\n<title>14</title>\n<ellipse fill=\"none\" stroke=\"black\" cx=\"409\" cy=\"-90\" rx=\"27\" ry=\"18\"/>\n<text text-anchor=\"middle\" x=\"409\" y=\"-86.3\" font-family=\"Times,serif\" font-size=\"14.00\">V</text>\n</g>\n<!-- 12&#45;&gt;14 -->\n<g id=\"edge14\" class=\"edge\">\n<title>12&#45;&gt;14</title>\n<path fill=\"none\" stroke=\"black\" d=\"M351.57,-146.83C361.75,-136.94 375.52,-123.55 387.03,-112.36\"/>\n<polygon fill=\"black\" stroke=\"black\" points=\"389.47,-114.87 394.2,-105.38 384.59,-109.85 389.47,-114.87\"/>\n</g>\n<!-- 15 -->\n<g id=\"node16\" class=\"node\">\n<title>15</title>\n<ellipse fill=\"none\" stroke=\"black\" cx=\"409\" cy=\"-18\" rx=\"27\" ry=\"18\"/>\n<text text-anchor=\"middle\" x=\"409\" y=\"-14.3\" font-family=\"Times,serif\" font-size=\"14.00\">eat</text>\n</g>\n<!-- 14&#45;&gt;15 -->\n<g id=\"edge15\" class=\"edge\">\n<title>14&#45;&gt;15</title>\n<path fill=\"none\" stroke=\"black\" d=\"M409,-71.7C409,-63.98 409,-54.71 409,-46.11\"/>\n<polygon fill=\"black\" stroke=\"black\" points=\"412.5,-46.1 409,-36.1 405.5,-46.1 412.5,-46.1\"/>\n</g>\n</g>\n</svg>\n",
            "text/plain": [
              "<graphviz.graphs.Digraph at 0x7d5ce1ec6e30>"
            ]
          },
          "metadata": {}
        }
      ]
    },
    {
      "cell_type": "code",
      "source": [
        "print(trees[1])"
      ],
      "metadata": {
        "colab": {
          "base_uri": "https://localhost:8080/"
        },
        "id": "djQDfJ97V8lM",
        "outputId": "fa3fe7aa-6b42-40b8-b776-b29752eca724"
      },
      "execution_count": 322,
      "outputs": [
        {
          "output_type": "stream",
          "name": "stdout",
          "text": [
            "(S\n",
            "  (NP (Det The) (N chicken))\n",
            "  (VP (V is) (Adj ready) (Inf to (V eat))))\n"
          ]
        }
      ]
    },
    {
      "cell_type": "code",
      "source": [
        "dot_source = to_graphviz(trees[1])\n",
        "display(dot_source)"
      ],
      "metadata": {
        "colab": {
          "base_uri": "https://localhost:8080/",
          "height": 464
        },
        "id": "nyWXwcerWETq",
        "outputId": "9e63e012-3f8d-4c4d-eb12-e5db1a178c91"
      },
      "execution_count": 323,
      "outputs": [
        {
          "output_type": "display_data",
          "data": {
            "image/svg+xml": "<?xml version=\"1.0\" encoding=\"UTF-8\" standalone=\"no\"?>\n<!DOCTYPE svg PUBLIC \"-//W3C//DTD SVG 1.1//EN\"\n \"http://www.w3.org/Graphics/SVG/1.1/DTD/svg11.dtd\">\n<!-- Generated by graphviz version 2.43.0 (0)\n -->\n<!-- Title: %3 Pages: 1 -->\n<svg width=\"452pt\" height=\"332pt\"\n viewBox=\"0.00 0.00 452.00 332.00\" xmlns=\"http://www.w3.org/2000/svg\" xmlns:xlink=\"http://www.w3.org/1999/xlink\">\n<g id=\"graph0\" class=\"graph\" transform=\"scale(1 1) rotate(0) translate(4 328)\">\n<title>%3</title>\n<polygon fill=\"white\" stroke=\"transparent\" points=\"-4,4 -4,-328 448,-328 448,4 -4,4\"/>\n<!-- 0 -->\n<g id=\"node1\" class=\"node\">\n<title>0</title>\n<ellipse fill=\"none\" stroke=\"black\" cx=\"151\" cy=\"-306\" rx=\"27\" ry=\"18\"/>\n<text text-anchor=\"middle\" x=\"151\" y=\"-302.3\" font-family=\"Times,serif\" font-size=\"14.00\">S</text>\n</g>\n<!-- 1 -->\n<g id=\"node2\" class=\"node\">\n<title>1</title>\n<ellipse fill=\"none\" stroke=\"black\" cx=\"110\" cy=\"-234\" rx=\"27\" ry=\"18\"/>\n<text text-anchor=\"middle\" x=\"110\" y=\"-230.3\" font-family=\"Times,serif\" font-size=\"14.00\">NP</text>\n</g>\n<!-- 0&#45;&gt;1 -->\n<g id=\"edge1\" class=\"edge\">\n<title>0&#45;&gt;1</title>\n<path fill=\"none\" stroke=\"black\" d=\"M141.49,-288.76C136.47,-280.19 130.2,-269.49 124.58,-259.9\"/>\n<polygon fill=\"black\" stroke=\"black\" points=\"127.53,-258.01 119.46,-251.15 121.49,-261.55 127.53,-258.01\"/>\n</g>\n<!-- 6 -->\n<g id=\"node7\" class=\"node\">\n<title>6</title>\n<ellipse fill=\"none\" stroke=\"black\" cx=\"231\" cy=\"-234\" rx=\"27\" ry=\"18\"/>\n<text text-anchor=\"middle\" x=\"231\" y=\"-230.3\" font-family=\"Times,serif\" font-size=\"14.00\">VP</text>\n</g>\n<!-- 0&#45;&gt;6 -->\n<g id=\"edge6\" class=\"edge\">\n<title>0&#45;&gt;6</title>\n<path fill=\"none\" stroke=\"black\" d=\"M166.81,-291.17C178.42,-281.01 194.39,-267.03 207.5,-255.56\"/>\n<polygon fill=\"black\" stroke=\"black\" points=\"210.01,-258.02 215.23,-248.8 205.4,-252.75 210.01,-258.02\"/>\n</g>\n<!-- 2 -->\n<g id=\"node3\" class=\"node\">\n<title>2</title>\n<ellipse fill=\"none\" stroke=\"black\" cx=\"33\" cy=\"-162\" rx=\"27\" ry=\"18\"/>\n<text text-anchor=\"middle\" x=\"33\" y=\"-158.3\" font-family=\"Times,serif\" font-size=\"14.00\">Det</text>\n</g>\n<!-- 1&#45;&gt;2 -->\n<g id=\"edge2\" class=\"edge\">\n<title>1&#45;&gt;2</title>\n<path fill=\"none\" stroke=\"black\" d=\"M94.42,-218.83C83.39,-208.81 68.41,-195.19 56.01,-183.92\"/>\n<polygon fill=\"black\" stroke=\"black\" points=\"58.05,-181.04 48.3,-176.91 53.34,-186.22 58.05,-181.04\"/>\n</g>\n<!-- 4 -->\n<g id=\"node5\" class=\"node\">\n<title>4</title>\n<ellipse fill=\"none\" stroke=\"black\" cx=\"110\" cy=\"-162\" rx=\"27\" ry=\"18\"/>\n<text text-anchor=\"middle\" x=\"110\" y=\"-158.3\" font-family=\"Times,serif\" font-size=\"14.00\">N</text>\n</g>\n<!-- 1&#45;&gt;4 -->\n<g id=\"edge4\" class=\"edge\">\n<title>1&#45;&gt;4</title>\n<path fill=\"none\" stroke=\"black\" d=\"M110,-215.7C110,-207.98 110,-198.71 110,-190.11\"/>\n<polygon fill=\"black\" stroke=\"black\" points=\"113.5,-190.1 110,-180.1 106.5,-190.1 113.5,-190.1\"/>\n</g>\n<!-- 3 -->\n<g id=\"node4\" class=\"node\">\n<title>3</title>\n<ellipse fill=\"none\" stroke=\"black\" cx=\"27\" cy=\"-90\" rx=\"27\" ry=\"18\"/>\n<text text-anchor=\"middle\" x=\"27\" y=\"-86.3\" font-family=\"Times,serif\" font-size=\"14.00\">The</text>\n</g>\n<!-- 2&#45;&gt;3 -->\n<g id=\"edge3\" class=\"edge\">\n<title>2&#45;&gt;3</title>\n<path fill=\"none\" stroke=\"black\" d=\"M31.52,-143.7C30.86,-135.98 30.06,-126.71 29.32,-118.11\"/>\n<polygon fill=\"black\" stroke=\"black\" points=\"32.81,-117.77 28.47,-108.1 25.83,-118.37 32.81,-117.77\"/>\n</g>\n<!-- 5 -->\n<g id=\"node6\" class=\"node\">\n<title>5</title>\n<ellipse fill=\"none\" stroke=\"black\" cx=\"110\" cy=\"-90\" rx=\"38.19\" ry=\"18\"/>\n<text text-anchor=\"middle\" x=\"110\" y=\"-86.3\" font-family=\"Times,serif\" font-size=\"14.00\">chicken</text>\n</g>\n<!-- 4&#45;&gt;5 -->\n<g id=\"edge5\" class=\"edge\">\n<title>4&#45;&gt;5</title>\n<path fill=\"none\" stroke=\"black\" d=\"M110,-143.7C110,-135.98 110,-126.71 110,-118.11\"/>\n<polygon fill=\"black\" stroke=\"black\" points=\"113.5,-118.1 110,-108.1 106.5,-118.1 113.5,-118.1\"/>\n</g>\n<!-- 7 -->\n<g id=\"node8\" class=\"node\">\n<title>7</title>\n<ellipse fill=\"none\" stroke=\"black\" cx=\"194\" cy=\"-162\" rx=\"27\" ry=\"18\"/>\n<text text-anchor=\"middle\" x=\"194\" y=\"-158.3\" font-family=\"Times,serif\" font-size=\"14.00\">V</text>\n</g>\n<!-- 6&#45;&gt;7 -->\n<g id=\"edge7\" class=\"edge\">\n<title>6&#45;&gt;7</title>\n<path fill=\"none\" stroke=\"black\" d=\"M222.42,-216.76C217.94,-208.28 212.35,-197.71 207.32,-188.2\"/>\n<polygon fill=\"black\" stroke=\"black\" points=\"210.3,-186.35 202.54,-179.15 204.11,-189.62 210.3,-186.35\"/>\n</g>\n<!-- 9 -->\n<g id=\"node10\" class=\"node\">\n<title>9</title>\n<ellipse fill=\"none\" stroke=\"black\" cx=\"267\" cy=\"-162\" rx=\"27\" ry=\"18\"/>\n<text text-anchor=\"middle\" x=\"267\" y=\"-158.3\" font-family=\"Times,serif\" font-size=\"14.00\">Adj</text>\n</g>\n<!-- 6&#45;&gt;9 -->\n<g id=\"edge9\" class=\"edge\">\n<title>6&#45;&gt;9</title>\n<path fill=\"none\" stroke=\"black\" d=\"M239.35,-216.76C243.71,-208.28 249.15,-197.71 254.04,-188.2\"/>\n<polygon fill=\"black\" stroke=\"black\" points=\"257.23,-189.64 258.7,-179.15 251.01,-186.44 257.23,-189.64\"/>\n</g>\n<!-- 11 -->\n<g id=\"node12\" class=\"node\">\n<title>11</title>\n<ellipse fill=\"none\" stroke=\"black\" cx=\"345\" cy=\"-162\" rx=\"27\" ry=\"18\"/>\n<text text-anchor=\"middle\" x=\"345\" y=\"-158.3\" font-family=\"Times,serif\" font-size=\"14.00\">Inf</text>\n</g>\n<!-- 6&#45;&gt;11 -->\n<g id=\"edge11\" class=\"edge\">\n<title>6&#45;&gt;11</title>\n<path fill=\"none\" stroke=\"black\" d=\"M250.34,-221.13C268.6,-209.91 296.19,-192.97 316.89,-180.26\"/>\n<polygon fill=\"black\" stroke=\"black\" points=\"318.88,-183.15 325.57,-174.93 315.21,-177.18 318.88,-183.15\"/>\n</g>\n<!-- 8 -->\n<g id=\"node9\" class=\"node\">\n<title>8</title>\n<ellipse fill=\"none\" stroke=\"black\" cx=\"193\" cy=\"-90\" rx=\"27\" ry=\"18\"/>\n<text text-anchor=\"middle\" x=\"193\" y=\"-86.3\" font-family=\"Times,serif\" font-size=\"14.00\">is</text>\n</g>\n<!-- 7&#45;&gt;8 -->\n<g id=\"edge8\" class=\"edge\">\n<title>7&#45;&gt;8</title>\n<path fill=\"none\" stroke=\"black\" d=\"M193.75,-143.7C193.64,-135.98 193.51,-126.71 193.39,-118.11\"/>\n<polygon fill=\"black\" stroke=\"black\" points=\"196.89,-118.05 193.24,-108.1 189.89,-118.15 196.89,-118.05\"/>\n</g>\n<!-- 10 -->\n<g id=\"node11\" class=\"node\">\n<title>10</title>\n<ellipse fill=\"none\" stroke=\"black\" cx=\"269\" cy=\"-90\" rx=\"30.59\" ry=\"18\"/>\n<text text-anchor=\"middle\" x=\"269\" y=\"-86.3\" font-family=\"Times,serif\" font-size=\"14.00\">ready</text>\n</g>\n<!-- 9&#45;&gt;10 -->\n<g id=\"edge10\" class=\"edge\">\n<title>9&#45;&gt;10</title>\n<path fill=\"none\" stroke=\"black\" d=\"M267.49,-143.7C267.71,-135.98 267.98,-126.71 268.23,-118.11\"/>\n<polygon fill=\"black\" stroke=\"black\" points=\"271.72,-118.2 268.51,-108.1 264.73,-118 271.72,-118.2\"/>\n</g>\n<!-- 12 -->\n<g id=\"node13\" class=\"node\">\n<title>12</title>\n<ellipse fill=\"none\" stroke=\"black\" cx=\"345\" cy=\"-90\" rx=\"27\" ry=\"18\"/>\n<text text-anchor=\"middle\" x=\"345\" y=\"-86.3\" font-family=\"Times,serif\" font-size=\"14.00\">to</text>\n</g>\n<!-- 11&#45;&gt;12 -->\n<g id=\"edge12\" class=\"edge\">\n<title>11&#45;&gt;12</title>\n<path fill=\"none\" stroke=\"black\" d=\"M345,-143.7C345,-135.98 345,-126.71 345,-118.11\"/>\n<polygon fill=\"black\" stroke=\"black\" points=\"348.5,-118.1 345,-108.1 341.5,-118.1 348.5,-118.1\"/>\n</g>\n<!-- 13 -->\n<g id=\"node14\" class=\"node\">\n<title>13</title>\n<ellipse fill=\"none\" stroke=\"black\" cx=\"417\" cy=\"-90\" rx=\"27\" ry=\"18\"/>\n<text text-anchor=\"middle\" x=\"417\" y=\"-86.3\" font-family=\"Times,serif\" font-size=\"14.00\">V</text>\n</g>\n<!-- 11&#45;&gt;13 -->\n<g id=\"edge13\" class=\"edge\">\n<title>11&#45;&gt;13</title>\n<path fill=\"none\" stroke=\"black\" d=\"M359.57,-146.83C369.75,-136.94 383.52,-123.55 395.03,-112.36\"/>\n<polygon fill=\"black\" stroke=\"black\" points=\"397.47,-114.87 402.2,-105.38 392.59,-109.85 397.47,-114.87\"/>\n</g>\n<!-- 14 -->\n<g id=\"node15\" class=\"node\">\n<title>14</title>\n<ellipse fill=\"none\" stroke=\"black\" cx=\"417\" cy=\"-18\" rx=\"27\" ry=\"18\"/>\n<text text-anchor=\"middle\" x=\"417\" y=\"-14.3\" font-family=\"Times,serif\" font-size=\"14.00\">eat</text>\n</g>\n<!-- 13&#45;&gt;14 -->\n<g id=\"edge14\" class=\"edge\">\n<title>13&#45;&gt;14</title>\n<path fill=\"none\" stroke=\"black\" d=\"M417,-71.7C417,-63.98 417,-54.71 417,-46.11\"/>\n<polygon fill=\"black\" stroke=\"black\" points=\"420.5,-46.1 417,-36.1 413.5,-46.1 420.5,-46.1\"/>\n</g>\n</g>\n</svg>\n",
            "text/plain": [
              "<graphviz.graphs.Digraph at 0x7d5ce1ec67d0>"
            ]
          },
          "metadata": {}
        }
      ]
    },
    {
      "cell_type": "code",
      "source": [],
      "metadata": {
        "id": "jjEYsPivWKrg"
      },
      "execution_count": 323,
      "outputs": []
    }
  ]
}
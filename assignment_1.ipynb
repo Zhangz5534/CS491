{
  "nbformat": 4,
  "nbformat_minor": 0,
  "metadata": {
    "colab": {
      "provenance": []
    },
    "kernelspec": {
      "name": "python3",
      "display_name": "Python 3"
    },
    "language_info": {
      "name": "python"
    }
  },
  "cells": [
    {
      "cell_type": "code",
      "source": [
        "from google.colab import drive\n",
        "drive.mount('/content/drive')\n"
      ],
      "metadata": {
        "colab": {
          "base_uri": "https://localhost:8080/"
        },
        "id": "TQRhK6Gw9pFx",
        "outputId": "6293382c-69c1-4233-cad3-73733c0e1f73"
      },
      "execution_count": null,
      "outputs": [
        {
          "output_type": "stream",
          "name": "stdout",
          "text": [
            "Mounted at /content/drive\n"
          ]
        }
      ]
    },
    {
      "cell_type": "markdown",
      "source": [
        "# Basic number theory"
      ],
      "metadata": {
        "id": "4A_pu5yxBPG0"
      }
    },
    {
      "cell_type": "markdown",
      "source": [
        "First we will do some basic number theory with the python library \"sympy.\" This library is for \"symbolic\" mathematics."
      ],
      "metadata": {
        "id": "KC04TjXy-W_S"
      }
    },
    {
      "cell_type": "markdown",
      "source": [
        "Find your uwec id number, which should be an eight-digit number that begins with 11. Then assign it to a variable name, similar to what I did below with my uwec id."
      ],
      "metadata": {
        "id": "shOij42E_qYk"
      }
    },
    {
      "cell_type": "code",
      "source": [
        "from sympy.ntheory.generate import nextprime\n",
        "from sympy import factorint"
      ],
      "metadata": {
        "id": "TrkMhc-A5wP5"
      },
      "execution_count": null,
      "outputs": []
    },
    {
      "cell_type": "code",
      "source": [
        "alex_id=11158770"
      ],
      "metadata": {
        "id": "3hI-4ttDAUUD"
      },
      "execution_count": null,
      "outputs": []
    },
    {
      "cell_type": "code",
      "source": [
        "factorint(alex_id)"
      ],
      "metadata": {
        "colab": {
          "base_uri": "https://localhost:8080/"
        },
        "id": "kLl2NcoI_PLJ",
        "outputId": "a6449260-6f76-4953-cd91-401f6db38922"
      },
      "execution_count": null,
      "outputs": [
        {
          "output_type": "execute_result",
          "data": {
            "text/plain": [
              "{2: 1, 3: 1, 5: 1, 7: 2, 7591: 1}"
            ]
          },
          "metadata": {},
          "execution_count": 9
        }
      ]
    },
    {
      "cell_type": "markdown",
      "source": [
        "**factorint** returns a Python dictionary. Insert a text cell below and explain how to interpret the output. Then insert a code block to verify the prime factorization using multiplication and exponentiation."
      ],
      "metadata": {
        "id": "W_2-GSHIAfh9"
      }
    },
    {
      "cell_type": "code",
      "source": [
        "p=nextprime(alex_id)\n",
        "p"
      ],
      "metadata": {
        "colab": {
          "base_uri": "https://localhost:8080/"
        },
        "id": "PYtdsKhI5wyJ",
        "outputId": "185059c8-4292-4dd4-8533-df9a9652151d"
      },
      "execution_count": null,
      "outputs": [
        {
          "output_type": "execute_result",
          "data": {
            "text/plain": [
              "11158799"
            ]
          },
          "metadata": {},
          "execution_count": 10
        }
      ]
    },
    {
      "cell_type": "code",
      "source": [
        "q=nextprime(p)\n",
        "q"
      ],
      "metadata": {
        "colab": {
          "base_uri": "https://localhost:8080/"
        },
        "id": "J1p6RgAN51cB",
        "outputId": "7f557cbe-dc8c-40c2-a54f-2933af81d3ff"
      },
      "execution_count": null,
      "outputs": [
        {
          "output_type": "execute_result",
          "data": {
            "text/plain": [
              "11158811"
            ]
          },
          "metadata": {},
          "execution_count": 11
        }
      ]
    },
    {
      "cell_type": "code",
      "source": [
        "pq=p*q"
      ],
      "metadata": {
        "id": "JG8Xzo8m56dK"
      },
      "execution_count": null,
      "outputs": []
    },
    {
      "cell_type": "code",
      "source": [
        "factorint(pq)"
      ],
      "metadata": {
        "colab": {
          "base_uri": "https://localhost:8080/"
        },
        "id": "WRqs76zj59Vk",
        "outputId": "23db1802-a1ef-443b-8d98-e752b39960e5"
      },
      "execution_count": null,
      "outputs": [
        {
          "output_type": "execute_result",
          "data": {
            "text/plain": [
              "{11158799: 1, 11158811: 1}"
            ]
          },
          "metadata": {},
          "execution_count": 13
        }
      ]
    },
    {
      "cell_type": "markdown",
      "source": [
        "# Basic text processing"
      ],
      "metadata": {
        "id": "46-Ra_OGBr99"
      }
    },
    {
      "cell_type": "markdown",
      "source": [
        "Next we will do some basic textprocessing. Go to the Gutenberg website\n",
        "\n",
        "https://www.gutenberg.org/\n",
        "\n",
        "and find a passage similar to the one below. When selecting a format, use **Plain Text UTF-8**\n",
        "\n",
        "When you paste your selected text into a code block you will need to enclose it in triple quotes **\"\"\"pasted text\"\"\"**\n",
        "\n",
        "In Python, triple double quotes (\"\"\") are used to create multi-line string literals. This means they allow you to include a string that spans across multiple lines without the need to insert a newline character (\\n) manually at the end of each line. This is particularly useful for long strings, or when you want to preserve the format of the text."
      ],
      "metadata": {
        "id": "4MRcjy4YSMg9"
      }
    },
    {
      "cell_type": "markdown",
      "source": [
        "https://www.gutenberg.org/cache/epub/72859/pg72859-images.html  \n",
        "Ships of the seven seas( Hawthorne Daniel)\n",
        "[eBook #72859]"
      ],
      "metadata": {
        "id": "BfIH3v8BJt5D"
      }
    },
    {
      "cell_type": "code",
      "source": [
        "snip0=\"\"\"They built on dry land sets of rowers’ seats, and while they taught rowers to pull their oars in unison in these unique training benches, they set to work with the energy that marked Rome out for great success. Sixty days after they had felled the trees, they had a fleet of quinquiremes afloat and manned.\n",
        "\n",
        "Promptly they turned the prows of this new fleet toward the Carthaginians—and were defeated.\n",
        "\n",
        "But with the indomitable will that characterized the Romans for two thousand years, they went to work again, and built a new fleet and a more powerful one. This time[Pg 18] some inventive Roman devised a kind of hinged gangplank, which could be dropped upon the deck of an enemy ship, maintaining its hold by a heavy metal barb which would penetrate the decks. Across this bridge the Roman soldiers could rush, and by this means could turn a naval battle into what was very nearly the same to these land-trained soldiers as a battle on dry land, where hard blows with sword and spear determined the result.\n",
        "With this new apparatus the Romans, under Duilius, in 260 B. C., gained a victory at Mylæ, off the coast of Sicily, and after three wars, covering, with intervals between, 118 years, drove the Carthaginians from the sea and razed their beautiful city to the ground.\n",
        "\n",
        "It is not my purpose, in this chapter, to go into great detail in telling of the development of ships from this time on, for the designs were infinitely great, the variations numerous, and there were, until the 19th Century, but two vital improvements—the compass and a considerable improvement in the ability of sailing ships to make headway against the wind.\"\"\""
      ],
      "metadata": {
        "id": "T04XiLxe6Bs7"
      },
      "execution_count": null,
      "outputs": []
    },
    {
      "cell_type": "code",
      "source": [
        "snip0"
      ],
      "metadata": {
        "colab": {
          "base_uri": "https://localhost:8080/",
          "height": 191
        },
        "id": "tyQPU5hSFYok",
        "outputId": "0a13c792-9725-4549-a0e3-738eb8c26901"
      },
      "execution_count": null,
      "outputs": [
        {
          "output_type": "execute_result",
          "data": {
            "text/plain": [
              "'They built on dry land sets of rowers’ seats, and while they taught rowers to pull their oars in unison in these unique training benches, they set to work with the energy that marked Rome out for great success. Sixty days after they had felled the trees, they had a fleet of quinquiremes afloat and manned.\\n\\nPromptly they turned the prows of this new fleet toward the Carthaginians—and were defeated.\\n\\nBut with the indomitable will that characterized the Romans for two thousand years, they went to work again, and built a new fleet and a more powerful one. This time[Pg 18] some inventive Roman devised a kind of hinged gangplank, which could be dropped upon the deck of an enemy ship, maintaining its hold by a heavy metal barb which would penetrate the decks. Across this bridge the Roman soldiers could rush, and by this means could turn a naval battle into what was very nearly the same to these land-trained soldiers as a battle on dry land, where hard blows with sword and spear determined the result.\\nWith this new apparatus the Romans, under Duilius, in 260 B. C., gained a victory at Mylæ, off the coast of Sicily, and after three wars, covering, with intervals between, 118 years, drove the Carthaginians from the sea and razed their beautiful city to the ground.\\n\\nIt is not my purpose, in this chapter, to go into great detail in telling of the development of ships from this time on, for the designs were infinitely great, the variations numerous, and there were, until the 19th Century, but two vital improvements—the compass and a considerable improvement in the ability of sailing ships to make headway against the wind.'"
            ],
            "application/vnd.google.colaboratory.intrinsic+json": {
              "type": "string"
            }
          },
          "metadata": {},
          "execution_count": 3
        }
      ]
    },
    {
      "cell_type": "markdown",
      "source": [
        "The **re** library in Python is a module that provides support for regular expressions. Regular expressions (often shortened to \"regex\") are a powerful tool for processing strings. They allow for pattern matching and complex string manipulation tasks which would be difficult or impossible to achieve with standard string methods alone."
      ],
      "metadata": {
        "id": "fdH1SuXgUDla"
      }
    },
    {
      "cell_type": "code",
      "source": [
        "import re\n",
        "snip = re.sub(r'\\n', ' ', snip0)"
      ],
      "metadata": {
        "id": "JB6IvA0DG_Pf"
      },
      "execution_count": null,
      "outputs": []
    },
    {
      "cell_type": "code",
      "source": [
        "snip"
      ],
      "metadata": {
        "colab": {
          "base_uri": "https://localhost:8080/",
          "height": 191
        },
        "id": "uk34JQBdHDPp",
        "outputId": "1013db9f-4ac7-4e64-9cc9-3c0075f03bde"
      },
      "execution_count": null,
      "outputs": [
        {
          "output_type": "execute_result",
          "data": {
            "text/plain": [
              "'They built on dry land sets of rowers’ seats, and while they taught rowers to pull their oars in unison in these unique training benches, they set to work with the energy that marked Rome out for great success. Sixty days after they had felled the trees, they had a fleet of quinquiremes afloat and manned.  Promptly they turned the prows of this new fleet toward the Carthaginians—and were defeated.  But with the indomitable will that characterized the Romans for two thousand years, they went to work again, and built a new fleet and a more powerful one. This time[Pg 18] some inventive Roman devised a kind of hinged gangplank, which could be dropped upon the deck of an enemy ship, maintaining its hold by a heavy metal barb which would penetrate the decks. Across this bridge the Roman soldiers could rush, and by this means could turn a naval battle into what was very nearly the same to these land-trained soldiers as a battle on dry land, where hard blows with sword and spear determined the result. With this new apparatus the Romans, under Duilius, in 260 B. C., gained a victory at Mylæ, off the coast of Sicily, and after three wars, covering, with intervals between, 118 years, drove the Carthaginians from the sea and razed their beautiful city to the ground.  It is not my purpose, in this chapter, to go into great detail in telling of the development of ships from this time on, for the designs were infinitely great, the variations numerous, and there were, until the 19th Century, but two vital improvements—the compass and a considerable improvement in the ability of sailing ships to make headway against the wind.'"
            ],
            "application/vnd.google.colaboratory.intrinsic+json": {
              "type": "string"
            }
          },
          "metadata": {},
          "execution_count": 6
        }
      ]
    },
    {
      "cell_type": "markdown",
      "source": [
        "Next we will do a crude tokenization of snip by using the standard sentence ending symbols **.!?**"
      ],
      "metadata": {
        "id": "ClujsLhiY9Na"
      }
    },
    {
      "cell_type": "code",
      "source": [
        "sentences = re.split(r'(?<=[.!?]) +', snip)"
      ],
      "metadata": {
        "id": "Wkq2TI6kHEj6"
      },
      "execution_count": null,
      "outputs": []
    },
    {
      "cell_type": "code",
      "source": [
        "sentences"
      ],
      "metadata": {
        "colab": {
          "base_uri": "https://localhost:8080/"
        },
        "id": "hlw5Jb9CHyYi",
        "outputId": "fd144931-9485-4ab1-9a83-c130a8937717"
      },
      "execution_count": null,
      "outputs": [
        {
          "output_type": "execute_result",
          "data": {
            "text/plain": [
              "['They built on dry land sets of rowers’ seats, and while they taught rowers to pull their oars in unison in these unique training benches, they set to work with the energy that marked Rome out for great success.',\n",
              " 'Sixty days after they had felled the trees, they had a fleet of quinquiremes afloat and manned.',\n",
              " 'Promptly they turned the prows of this new fleet toward the Carthaginians—and were defeated.',\n",
              " 'But with the indomitable will that characterized the Romans for two thousand years, they went to work again, and built a new fleet and a more powerful one.',\n",
              " 'This time[Pg 18] some inventive Roman devised a kind of hinged gangplank, which could be dropped upon the deck of an enemy ship, maintaining its hold by a heavy metal barb which would penetrate the decks.',\n",
              " 'Across this bridge the Roman soldiers could rush, and by this means could turn a naval battle into what was very nearly the same to these land-trained soldiers as a battle on dry land, where hard blows with sword and spear determined the result.',\n",
              " 'With this new apparatus the Romans, under Duilius, in 260 B.',\n",
              " 'C., gained a victory at Mylæ, off the coast of Sicily, and after three wars, covering, with intervals between, 118 years, drove the Carthaginians from the sea and razed their beautiful city to the ground.',\n",
              " 'It is not my purpose, in this chapter, to go into great detail in telling of the development of ships from this time on, for the designs were infinitely great, the variations numerous, and there were, until the 19th Century, but two vital improvements—the compass and a considerable improvement in the ability of sailing ships to make headway against the wind.']"
            ]
          },
          "metadata": {},
          "execution_count": 8
        }
      ]
    },
    {
      "cell_type": "markdown",
      "source": [
        "Next we will use[ NLTK](https://www.nltk.org/) to tokenize the passage into sentences. The NLTK tokenizer is more sophisticated than our crude one above, but it's far from perfect."
      ],
      "metadata": {
        "id": "YUeYS1ePZc1q"
      }
    },
    {
      "cell_type": "code",
      "source": [
        "import nltk\n",
        "from nltk.tokenize import sent_tokenize\n",
        "\n",
        "# Ensure the Punkt tokenizer models are downloaded\n",
        "nltk.download('punkt')\n"
      ],
      "metadata": {
        "colab": {
          "base_uri": "https://localhost:8080/"
        },
        "id": "7XVuVDhqHzyi",
        "outputId": "d1ef834a-04f9-48e1-b8cf-b9372666b819"
      },
      "execution_count": null,
      "outputs": [
        {
          "output_type": "stream",
          "name": "stderr",
          "text": [
            "[nltk_data] Downloading package punkt to /root/nltk_data...\n",
            "[nltk_data]   Unzipping tokenizers/punkt.zip.\n"
          ]
        },
        {
          "output_type": "execute_result",
          "data": {
            "text/plain": [
              "True"
            ]
          },
          "metadata": {},
          "execution_count": 9
        }
      ]
    },
    {
      "cell_type": "code",
      "source": [
        "##If Chinese is your native language then you might want to explore this package\n",
        "# import jieba\n",
        "# text = \"中文的單字邊界是否使用空格\"\n",
        "# seg_list = jieba.cut(text, cut_all=False)\n",
        "# print(\"Default Mode: \" + \"/ \".join(seg_list))  # Default is precise mode"
      ],
      "metadata": {
        "id": "tmHgD5D47myV"
      },
      "execution_count": null,
      "outputs": []
    },
    {
      "cell_type": "code",
      "source": [
        "\n",
        "nltk_sentences = sent_tokenize(snip)\n",
        "\n",
        "nltk_sentences"
      ],
      "metadata": {
        "colab": {
          "base_uri": "https://localhost:8080/"
        },
        "id": "lH08DzpHIt7t",
        "outputId": "5620f4b8-4783-4d50-f5e0-5f0165ab3722"
      },
      "execution_count": null,
      "outputs": [
        {
          "output_type": "execute_result",
          "data": {
            "text/plain": [
              "['They built on dry land sets of rowers’ seats, and while they taught rowers to pull their oars in unison in these unique training benches, they set to work with the energy that marked Rome out for great success.',\n",
              " 'Sixty days after they had felled the trees, they had a fleet of quinquiremes afloat and manned.',\n",
              " 'Promptly they turned the prows of this new fleet toward the Carthaginians—and were defeated.',\n",
              " 'But with the indomitable will that characterized the Romans for two thousand years, they went to work again, and built a new fleet and a more powerful one.',\n",
              " 'This time[Pg 18] some inventive Roman devised a kind of hinged gangplank, which could be dropped upon the deck of an enemy ship, maintaining its hold by a heavy metal barb which would penetrate the decks.',\n",
              " 'Across this bridge the Roman soldiers could rush, and by this means could turn a naval battle into what was very nearly the same to these land-trained soldiers as a battle on dry land, where hard blows with sword and spear determined the result.',\n",
              " 'With this new apparatus the Romans, under Duilius, in 260 B. C., gained a victory at Mylæ, off the coast of Sicily, and after three wars, covering, with intervals between, 118 years, drove the Carthaginians from the sea and razed their beautiful city to the ground.',\n",
              " 'It is not my purpose, in this chapter, to go into great detail in telling of the development of ships from this time on, for the designs were infinitely great, the variations numerous, and there were, until the 19th Century, but two vital improvements—the compass and a considerable improvement in the ability of sailing ships to make headway against the wind.']"
            ]
          },
          "metadata": {},
          "execution_count": 11
        }
      ]
    },
    {
      "cell_type": "markdown",
      "source": [
        "Next we will do some processing with [spacy](https://spacy.io/)."
      ],
      "metadata": {
        "id": "KTPFe0Czaq3m"
      }
    },
    {
      "cell_type": "code",
      "source": [
        "import spacy\n",
        "\n",
        "# Load the English NLP model\n",
        "nlp = spacy.load('en_core_web_sm')\n",
        "\n",
        "\n",
        "\n",
        "# Process the text\n",
        "doc = nlp(snip)\n",
        "\n",
        "# Extract sentences\n",
        "spacy_sentences = [sentence.text for sentence in doc.sents]\n",
        "\n",
        "spacy_sentences\n"
      ],
      "metadata": {
        "colab": {
          "base_uri": "https://localhost:8080/"
        },
        "id": "QOJvIpzlI6Je",
        "outputId": "9e68fe15-94ec-47f9-8a7a-07162ad4b3a1"
      },
      "execution_count": null,
      "outputs": [
        {
          "output_type": "execute_result",
          "data": {
            "text/plain": [
              "['They built on dry land sets of rowers’ seats, and while they taught rowers to pull their oars in unison in these unique training benches, they set to work with the energy that marked Rome out for great success.',\n",
              " 'Sixty days after they had felled the trees, they had a fleet of quinquiremes afloat and manned.  ',\n",
              " 'Promptly they turned the prows of this new fleet toward the Carthaginians—and were defeated.  ',\n",
              " 'But with the indomitable will that characterized the Romans for two thousand years, they went to work again, and built a new fleet and a more powerful one.',\n",
              " 'This time[Pg 18] some inventive Roman devised a kind of hinged gangplank, which could be dropped upon the deck of an enemy ship, maintaining its hold by a heavy metal barb which would penetrate the decks.',\n",
              " 'Across this bridge the Roman soldiers could rush, and by this means could turn a naval battle into what was very nearly the same to these land-trained soldiers as a battle on dry land, where hard blows with sword and spear determined the result.',\n",
              " 'With this new apparatus the Romans, under Duilius, in 260 B. C., gained a victory at Mylæ, off the coast of Sicily, and after three wars, covering, with intervals between, 118 years, drove the Carthaginians from the sea and razed their beautiful city to the ground.  ',\n",
              " 'It is not my purpose, in this chapter, to go into great detail in telling of the development of ships from this time on, for the designs were infinitely great, the variations numerous, and there were, until the 19th Century, but two vital improvements—the compass and a considerable improvement in the ability of sailing ships to make headway against the wind.']"
            ]
          },
          "metadata": {},
          "execution_count": 12
        }
      ]
    },
    {
      "cell_type": "code",
      "source": [
        "cleaned_sens=[sen.lower() for sen in sentences]"
      ],
      "metadata": {
        "id": "UHCU0AowJKiV"
      },
      "execution_count": null,
      "outputs": []
    },
    {
      "cell_type": "code",
      "source": [
        "cleaned_sens=[''.join([char for char in sen if char.isalpha() or char.isspace()]) for sen in cleaned_sens]\n",
        "\n"
      ],
      "metadata": {
        "id": "pVU1ZWEnn_y6"
      },
      "execution_count": null,
      "outputs": []
    },
    {
      "cell_type": "code",
      "source": [
        "cleaned_sens"
      ],
      "metadata": {
        "colab": {
          "base_uri": "https://localhost:8080/"
        },
        "id": "R7A-7HdmpG_m",
        "outputId": "d07cd824-e2fe-4c8f-e60b-43d219f4dce1"
      },
      "execution_count": null,
      "outputs": [
        {
          "output_type": "execute_result",
          "data": {
            "text/plain": [
              "['they built on dry land sets of rowers seats and while they taught rowers to pull their oars in unison in these unique training benches they set to work with the energy that marked rome out for great success',\n",
              " 'sixty days after they had felled the trees they had a fleet of quinquiremes afloat and manned',\n",
              " 'promptly they turned the prows of this new fleet toward the carthaginiansand were defeated',\n",
              " 'but with the indomitable will that characterized the romans for two thousand years they went to work again and built a new fleet and a more powerful one',\n",
              " 'this timepg  some inventive roman devised a kind of hinged gangplank which could be dropped upon the deck of an enemy ship maintaining its hold by a heavy metal barb which would penetrate the decks',\n",
              " 'across this bridge the roman soldiers could rush and by this means could turn a naval battle into what was very nearly the same to these landtrained soldiers as a battle on dry land where hard blows with sword and spear determined the result',\n",
              " 'with this new apparatus the romans under duilius in  b',\n",
              " 'c gained a victory at mylæ off the coast of sicily and after three wars covering with intervals between  years drove the carthaginians from the sea and razed their beautiful city to the ground',\n",
              " 'it is not my purpose in this chapter to go into great detail in telling of the development of ships from this time on for the designs were infinitely great the variations numerous and there were until the th century but two vital improvementsthe compass and a considerable improvement in the ability of sailing ships to make headway against the wind']"
            ]
          },
          "metadata": {},
          "execution_count": 15
        }
      ]
    },
    {
      "cell_type": "code",
      "source": [
        "from collections import Counter\n",
        "\n",
        "passage = snip0\n",
        "\n",
        "# Convert the passage to lowercase to ensure case-insensitive counting\n",
        "passage_lower = passage.lower()\n",
        "\n",
        "# Split the passage into words\n",
        "words = passage_lower.split()\n",
        "\n",
        "# Use Counter to count occurrences of each word\n",
        "word_count = Counter(words)\n",
        "\n",
        "print(word_count)\n"
      ],
      "metadata": {
        "colab": {
          "base_uri": "https://localhost:8080/"
        },
        "id": "2UpArNB_pIgG",
        "outputId": "af3d9da3-dce1-4dcf-d3b2-0f6a77061db1"
      },
      "execution_count": null,
      "outputs": [
        {
          "output_type": "stream",
          "name": "stdout",
          "text": [
            "Counter({'the': 22, 'and': 10, 'of': 9, 'a': 9, 'they': 7, 'to': 7, 'this': 7, 'in': 6, 'with': 5, 'for': 3, 'fleet': 3, 'new': 3, 'could': 3, 'built': 2, 'on': 2, 'dry': 2, 'their': 2, 'these': 2, 'work': 2, 'that': 2, 'great': 2, 'after': 2, 'had': 2, 'were': 2, 'but': 2, 'two': 2, 'years,': 2, 'roman': 2, 'which': 2, 'by': 2, 'soldiers': 2, 'battle': 2, 'into': 2, 'from': 2, 'ships': 2, 'land': 1, 'sets': 1, 'rowers’': 1, 'seats,': 1, 'while': 1, 'taught': 1, 'rowers': 1, 'pull': 1, 'oars': 1, 'unison': 1, 'unique': 1, 'training': 1, 'benches,': 1, 'set': 1, 'energy': 1, 'marked': 1, 'rome': 1, 'out': 1, 'success.': 1, 'sixty': 1, 'days': 1, 'felled': 1, 'trees,': 1, 'quinquiremes': 1, 'afloat': 1, 'manned.': 1, 'promptly': 1, 'turned': 1, 'prows': 1, 'toward': 1, 'carthaginians—and': 1, 'defeated.': 1, 'indomitable': 1, 'will': 1, 'characterized': 1, 'romans': 1, 'thousand': 1, 'went': 1, 'again,': 1, 'more': 1, 'powerful': 1, 'one.': 1, 'time[pg': 1, '18]': 1, 'some': 1, 'inventive': 1, 'devised': 1, 'kind': 1, 'hinged': 1, 'gangplank,': 1, 'be': 1, 'dropped': 1, 'upon': 1, 'deck': 1, 'an': 1, 'enemy': 1, 'ship,': 1, 'maintaining': 1, 'its': 1, 'hold': 1, 'heavy': 1, 'metal': 1, 'barb': 1, 'would': 1, 'penetrate': 1, 'decks.': 1, 'across': 1, 'bridge': 1, 'rush,': 1, 'means': 1, 'turn': 1, 'naval': 1, 'what': 1, 'was': 1, 'very': 1, 'nearly': 1, 'same': 1, 'land-trained': 1, 'as': 1, 'land,': 1, 'where': 1, 'hard': 1, 'blows': 1, 'sword': 1, 'spear': 1, 'determined': 1, 'result.': 1, 'apparatus': 1, 'romans,': 1, 'under': 1, 'duilius,': 1, '260': 1, 'b.': 1, 'c.,': 1, 'gained': 1, 'victory': 1, 'at': 1, 'mylæ,': 1, 'off': 1, 'coast': 1, 'sicily,': 1, 'three': 1, 'wars,': 1, 'covering,': 1, 'intervals': 1, 'between,': 1, '118': 1, 'drove': 1, 'carthaginians': 1, 'sea': 1, 'razed': 1, 'beautiful': 1, 'city': 1, 'ground.': 1, 'it': 1, 'is': 1, 'not': 1, 'my': 1, 'purpose,': 1, 'chapter,': 1, 'go': 1, 'detail': 1, 'telling': 1, 'development': 1, 'time': 1, 'on,': 1, 'designs': 1, 'infinitely': 1, 'great,': 1, 'variations': 1, 'numerous,': 1, 'there': 1, 'were,': 1, 'until': 1, '19th': 1, 'century,': 1, 'vital': 1, 'improvements—the': 1, 'compass': 1, 'considerable': 1, 'improvement': 1, 'ability': 1, 'sailing': 1, 'make': 1, 'headway': 1, 'against': 1, 'wind.': 1})\n"
          ]
        }
      ]
    },
    {
      "cell_type": "code",
      "source": [
        "import pandas as pd\n",
        "\n",
        "# Convert the dictionary to a DataFrame\n",
        "df = pd.DataFrame(list(word_count.items()), columns=['Word', 'Count'])\n",
        "\n",
        "df\n"
      ],
      "metadata": {
        "colab": {
          "base_uri": "https://localhost:8080/",
          "height": 423
        },
        "id": "8EseDLeaqEjK",
        "outputId": "2022ad2d-888a-4e88-86f4-c720e3c42019"
      },
      "execution_count": null,
      "outputs": [
        {
          "output_type": "execute_result",
          "data": {
            "text/plain": [
              "        Word  Count\n",
              "0       they      7\n",
              "1      built      2\n",
              "2         on      2\n",
              "3        dry      2\n",
              "4       land      1\n",
              "..       ...    ...\n",
              "177  sailing      1\n",
              "178     make      1\n",
              "179  headway      1\n",
              "180  against      1\n",
              "181    wind.      1\n",
              "\n",
              "[182 rows x 2 columns]"
            ],
            "text/html": [
              "\n",
              "  <div id=\"df-5212b04c-e976-4b83-bd3d-c5070235abe0\" class=\"colab-df-container\">\n",
              "    <div>\n",
              "<style scoped>\n",
              "    .dataframe tbody tr th:only-of-type {\n",
              "        vertical-align: middle;\n",
              "    }\n",
              "\n",
              "    .dataframe tbody tr th {\n",
              "        vertical-align: top;\n",
              "    }\n",
              "\n",
              "    .dataframe thead th {\n",
              "        text-align: right;\n",
              "    }\n",
              "</style>\n",
              "<table border=\"1\" class=\"dataframe\">\n",
              "  <thead>\n",
              "    <tr style=\"text-align: right;\">\n",
              "      <th></th>\n",
              "      <th>Word</th>\n",
              "      <th>Count</th>\n",
              "    </tr>\n",
              "  </thead>\n",
              "  <tbody>\n",
              "    <tr>\n",
              "      <th>0</th>\n",
              "      <td>they</td>\n",
              "      <td>7</td>\n",
              "    </tr>\n",
              "    <tr>\n",
              "      <th>1</th>\n",
              "      <td>built</td>\n",
              "      <td>2</td>\n",
              "    </tr>\n",
              "    <tr>\n",
              "      <th>2</th>\n",
              "      <td>on</td>\n",
              "      <td>2</td>\n",
              "    </tr>\n",
              "    <tr>\n",
              "      <th>3</th>\n",
              "      <td>dry</td>\n",
              "      <td>2</td>\n",
              "    </tr>\n",
              "    <tr>\n",
              "      <th>4</th>\n",
              "      <td>land</td>\n",
              "      <td>1</td>\n",
              "    </tr>\n",
              "    <tr>\n",
              "      <th>...</th>\n",
              "      <td>...</td>\n",
              "      <td>...</td>\n",
              "    </tr>\n",
              "    <tr>\n",
              "      <th>177</th>\n",
              "      <td>sailing</td>\n",
              "      <td>1</td>\n",
              "    </tr>\n",
              "    <tr>\n",
              "      <th>178</th>\n",
              "      <td>make</td>\n",
              "      <td>1</td>\n",
              "    </tr>\n",
              "    <tr>\n",
              "      <th>179</th>\n",
              "      <td>headway</td>\n",
              "      <td>1</td>\n",
              "    </tr>\n",
              "    <tr>\n",
              "      <th>180</th>\n",
              "      <td>against</td>\n",
              "      <td>1</td>\n",
              "    </tr>\n",
              "    <tr>\n",
              "      <th>181</th>\n",
              "      <td>wind.</td>\n",
              "      <td>1</td>\n",
              "    </tr>\n",
              "  </tbody>\n",
              "</table>\n",
              "<p>182 rows × 2 columns</p>\n",
              "</div>\n",
              "    <div class=\"colab-df-buttons\">\n",
              "\n",
              "  <div class=\"colab-df-container\">\n",
              "    <button class=\"colab-df-convert\" onclick=\"convertToInteractive('df-5212b04c-e976-4b83-bd3d-c5070235abe0')\"\n",
              "            title=\"Convert this dataframe to an interactive table.\"\n",
              "            style=\"display:none;\">\n",
              "\n",
              "  <svg xmlns=\"http://www.w3.org/2000/svg\" height=\"24px\" viewBox=\"0 -960 960 960\">\n",
              "    <path d=\"M120-120v-720h720v720H120Zm60-500h600v-160H180v160Zm220 220h160v-160H400v160Zm0 220h160v-160H400v160ZM180-400h160v-160H180v160Zm440 0h160v-160H620v160ZM180-180h160v-160H180v160Zm440 0h160v-160H620v160Z\"/>\n",
              "  </svg>\n",
              "    </button>\n",
              "\n",
              "  <style>\n",
              "    .colab-df-container {\n",
              "      display:flex;\n",
              "      gap: 12px;\n",
              "    }\n",
              "\n",
              "    .colab-df-convert {\n",
              "      background-color: #E8F0FE;\n",
              "      border: none;\n",
              "      border-radius: 50%;\n",
              "      cursor: pointer;\n",
              "      display: none;\n",
              "      fill: #1967D2;\n",
              "      height: 32px;\n",
              "      padding: 0 0 0 0;\n",
              "      width: 32px;\n",
              "    }\n",
              "\n",
              "    .colab-df-convert:hover {\n",
              "      background-color: #E2EBFA;\n",
              "      box-shadow: 0px 1px 2px rgba(60, 64, 67, 0.3), 0px 1px 3px 1px rgba(60, 64, 67, 0.15);\n",
              "      fill: #174EA6;\n",
              "    }\n",
              "\n",
              "    .colab-df-buttons div {\n",
              "      margin-bottom: 4px;\n",
              "    }\n",
              "\n",
              "    [theme=dark] .colab-df-convert {\n",
              "      background-color: #3B4455;\n",
              "      fill: #D2E3FC;\n",
              "    }\n",
              "\n",
              "    [theme=dark] .colab-df-convert:hover {\n",
              "      background-color: #434B5C;\n",
              "      box-shadow: 0px 1px 3px 1px rgba(0, 0, 0, 0.15);\n",
              "      filter: drop-shadow(0px 1px 2px rgba(0, 0, 0, 0.3));\n",
              "      fill: #FFFFFF;\n",
              "    }\n",
              "  </style>\n",
              "\n",
              "    <script>\n",
              "      const buttonEl =\n",
              "        document.querySelector('#df-5212b04c-e976-4b83-bd3d-c5070235abe0 button.colab-df-convert');\n",
              "      buttonEl.style.display =\n",
              "        google.colab.kernel.accessAllowed ? 'block' : 'none';\n",
              "\n",
              "      async function convertToInteractive(key) {\n",
              "        const element = document.querySelector('#df-5212b04c-e976-4b83-bd3d-c5070235abe0');\n",
              "        const dataTable =\n",
              "          await google.colab.kernel.invokeFunction('convertToInteractive',\n",
              "                                                    [key], {});\n",
              "        if (!dataTable) return;\n",
              "\n",
              "        const docLinkHtml = 'Like what you see? Visit the ' +\n",
              "          '<a target=\"_blank\" href=https://colab.research.google.com/notebooks/data_table.ipynb>data table notebook</a>'\n",
              "          + ' to learn more about interactive tables.';\n",
              "        element.innerHTML = '';\n",
              "        dataTable['output_type'] = 'display_data';\n",
              "        await google.colab.output.renderOutput(dataTable, element);\n",
              "        const docLink = document.createElement('div');\n",
              "        docLink.innerHTML = docLinkHtml;\n",
              "        element.appendChild(docLink);\n",
              "      }\n",
              "    </script>\n",
              "  </div>\n",
              "\n",
              "\n",
              "<div id=\"df-7fde36a3-b5f2-4bc3-bb1b-a7bad7e9206d\">\n",
              "  <button class=\"colab-df-quickchart\" onclick=\"quickchart('df-7fde36a3-b5f2-4bc3-bb1b-a7bad7e9206d')\"\n",
              "            title=\"Suggest charts\"\n",
              "            style=\"display:none;\">\n",
              "\n",
              "<svg xmlns=\"http://www.w3.org/2000/svg\" height=\"24px\"viewBox=\"0 0 24 24\"\n",
              "     width=\"24px\">\n",
              "    <g>\n",
              "        <path d=\"M19 3H5c-1.1 0-2 .9-2 2v14c0 1.1.9 2 2 2h14c1.1 0 2-.9 2-2V5c0-1.1-.9-2-2-2zM9 17H7v-7h2v7zm4 0h-2V7h2v10zm4 0h-2v-4h2v4z\"/>\n",
              "    </g>\n",
              "</svg>\n",
              "  </button>\n",
              "\n",
              "<style>\n",
              "  .colab-df-quickchart {\n",
              "      --bg-color: #E8F0FE;\n",
              "      --fill-color: #1967D2;\n",
              "      --hover-bg-color: #E2EBFA;\n",
              "      --hover-fill-color: #174EA6;\n",
              "      --disabled-fill-color: #AAA;\n",
              "      --disabled-bg-color: #DDD;\n",
              "  }\n",
              "\n",
              "  [theme=dark] .colab-df-quickchart {\n",
              "      --bg-color: #3B4455;\n",
              "      --fill-color: #D2E3FC;\n",
              "      --hover-bg-color: #434B5C;\n",
              "      --hover-fill-color: #FFFFFF;\n",
              "      --disabled-bg-color: #3B4455;\n",
              "      --disabled-fill-color: #666;\n",
              "  }\n",
              "\n",
              "  .colab-df-quickchart {\n",
              "    background-color: var(--bg-color);\n",
              "    border: none;\n",
              "    border-radius: 50%;\n",
              "    cursor: pointer;\n",
              "    display: none;\n",
              "    fill: var(--fill-color);\n",
              "    height: 32px;\n",
              "    padding: 0;\n",
              "    width: 32px;\n",
              "  }\n",
              "\n",
              "  .colab-df-quickchart:hover {\n",
              "    background-color: var(--hover-bg-color);\n",
              "    box-shadow: 0 1px 2px rgba(60, 64, 67, 0.3), 0 1px 3px 1px rgba(60, 64, 67, 0.15);\n",
              "    fill: var(--button-hover-fill-color);\n",
              "  }\n",
              "\n",
              "  .colab-df-quickchart-complete:disabled,\n",
              "  .colab-df-quickchart-complete:disabled:hover {\n",
              "    background-color: var(--disabled-bg-color);\n",
              "    fill: var(--disabled-fill-color);\n",
              "    box-shadow: none;\n",
              "  }\n",
              "\n",
              "  .colab-df-spinner {\n",
              "    border: 2px solid var(--fill-color);\n",
              "    border-color: transparent;\n",
              "    border-bottom-color: var(--fill-color);\n",
              "    animation:\n",
              "      spin 1s steps(1) infinite;\n",
              "  }\n",
              "\n",
              "  @keyframes spin {\n",
              "    0% {\n",
              "      border-color: transparent;\n",
              "      border-bottom-color: var(--fill-color);\n",
              "      border-left-color: var(--fill-color);\n",
              "    }\n",
              "    20% {\n",
              "      border-color: transparent;\n",
              "      border-left-color: var(--fill-color);\n",
              "      border-top-color: var(--fill-color);\n",
              "    }\n",
              "    30% {\n",
              "      border-color: transparent;\n",
              "      border-left-color: var(--fill-color);\n",
              "      border-top-color: var(--fill-color);\n",
              "      border-right-color: var(--fill-color);\n",
              "    }\n",
              "    40% {\n",
              "      border-color: transparent;\n",
              "      border-right-color: var(--fill-color);\n",
              "      border-top-color: var(--fill-color);\n",
              "    }\n",
              "    60% {\n",
              "      border-color: transparent;\n",
              "      border-right-color: var(--fill-color);\n",
              "    }\n",
              "    80% {\n",
              "      border-color: transparent;\n",
              "      border-right-color: var(--fill-color);\n",
              "      border-bottom-color: var(--fill-color);\n",
              "    }\n",
              "    90% {\n",
              "      border-color: transparent;\n",
              "      border-bottom-color: var(--fill-color);\n",
              "    }\n",
              "  }\n",
              "</style>\n",
              "\n",
              "  <script>\n",
              "    async function quickchart(key) {\n",
              "      const quickchartButtonEl =\n",
              "        document.querySelector('#' + key + ' button');\n",
              "      quickchartButtonEl.disabled = true;  // To prevent multiple clicks.\n",
              "      quickchartButtonEl.classList.add('colab-df-spinner');\n",
              "      try {\n",
              "        const charts = await google.colab.kernel.invokeFunction(\n",
              "            'suggestCharts', [key], {});\n",
              "      } catch (error) {\n",
              "        console.error('Error during call to suggestCharts:', error);\n",
              "      }\n",
              "      quickchartButtonEl.classList.remove('colab-df-spinner');\n",
              "      quickchartButtonEl.classList.add('colab-df-quickchart-complete');\n",
              "    }\n",
              "    (() => {\n",
              "      let quickchartButtonEl =\n",
              "        document.querySelector('#df-7fde36a3-b5f2-4bc3-bb1b-a7bad7e9206d button');\n",
              "      quickchartButtonEl.style.display =\n",
              "        google.colab.kernel.accessAllowed ? 'block' : 'none';\n",
              "    })();\n",
              "  </script>\n",
              "</div>\n",
              "\n",
              "  <div id=\"id_ac3a9f12-d0d7-42cd-b063-a400adee3193\">\n",
              "    <style>\n",
              "      .colab-df-generate {\n",
              "        background-color: #E8F0FE;\n",
              "        border: none;\n",
              "        border-radius: 50%;\n",
              "        cursor: pointer;\n",
              "        display: none;\n",
              "        fill: #1967D2;\n",
              "        height: 32px;\n",
              "        padding: 0 0 0 0;\n",
              "        width: 32px;\n",
              "      }\n",
              "\n",
              "      .colab-df-generate:hover {\n",
              "        background-color: #E2EBFA;\n",
              "        box-shadow: 0px 1px 2px rgba(60, 64, 67, 0.3), 0px 1px 3px 1px rgba(60, 64, 67, 0.15);\n",
              "        fill: #174EA6;\n",
              "      }\n",
              "\n",
              "      [theme=dark] .colab-df-generate {\n",
              "        background-color: #3B4455;\n",
              "        fill: #D2E3FC;\n",
              "      }\n",
              "\n",
              "      [theme=dark] .colab-df-generate:hover {\n",
              "        background-color: #434B5C;\n",
              "        box-shadow: 0px 1px 3px 1px rgba(0, 0, 0, 0.15);\n",
              "        filter: drop-shadow(0px 1px 2px rgba(0, 0, 0, 0.3));\n",
              "        fill: #FFFFFF;\n",
              "      }\n",
              "    </style>\n",
              "    <button class=\"colab-df-generate\" onclick=\"generateWithVariable('df')\"\n",
              "            title=\"Generate code using this dataframe.\"\n",
              "            style=\"display:none;\">\n",
              "\n",
              "  <svg xmlns=\"http://www.w3.org/2000/svg\" height=\"24px\"viewBox=\"0 0 24 24\"\n",
              "       width=\"24px\">\n",
              "    <path d=\"M7,19H8.4L18.45,9,17,7.55,7,17.6ZM5,21V16.75L18.45,3.32a2,2,0,0,1,2.83,0l1.4,1.43a1.91,1.91,0,0,1,.58,1.4,1.91,1.91,0,0,1-.58,1.4L9.25,21ZM18.45,9,17,7.55Zm-12,3A5.31,5.31,0,0,0,4.9,8.1,5.31,5.31,0,0,0,1,6.5,5.31,5.31,0,0,0,4.9,4.9,5.31,5.31,0,0,0,6.5,1,5.31,5.31,0,0,0,8.1,4.9,5.31,5.31,0,0,0,12,6.5,5.46,5.46,0,0,0,6.5,12Z\"/>\n",
              "  </svg>\n",
              "    </button>\n",
              "    <script>\n",
              "      (() => {\n",
              "      const buttonEl =\n",
              "        document.querySelector('#id_ac3a9f12-d0d7-42cd-b063-a400adee3193 button.colab-df-generate');\n",
              "      buttonEl.style.display =\n",
              "        google.colab.kernel.accessAllowed ? 'block' : 'none';\n",
              "\n",
              "      buttonEl.onclick = () => {\n",
              "        google.colab.notebook.generateWithVariable('df');\n",
              "      }\n",
              "      })();\n",
              "    </script>\n",
              "  </div>\n",
              "\n",
              "    </div>\n",
              "  </div>\n"
            ]
          },
          "metadata": {},
          "execution_count": 17
        }
      ]
    },
    {
      "cell_type": "markdown",
      "source": [],
      "metadata": {
        "id": "jEuOgN_J9DXH"
      }
    },
    {
      "cell_type": "code",
      "source": [],
      "metadata": {
        "id": "OuKUXZRpqaZR"
      },
      "execution_count": null,
      "outputs": []
    }
  ]
}
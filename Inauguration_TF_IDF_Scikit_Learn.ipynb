{
  "cells": [
    {
      "cell_type": "markdown",
      "metadata": {
        "id": "view-in-github",
        "colab_type": "text"
      },
      "source": [
        "<a href=\"https://colab.research.google.com/github/Zhangz5534/CS491/blob/main/Inauguration_TF_IDF_Scikit_Learn.ipynb\" target=\"_parent\"><img src=\"https://colab.research.google.com/assets/colab-badge.svg\" alt=\"Open In Colab\"/></a>"
      ]
    },
    {
      "cell_type": "markdown",
      "source": [
        "# 60_Alan_2024\n",
        "Ladies and gentlemen, esteemed guests, and fellow citizens,\n",
        "\n",
        "Today, as I stand before you, humbled and honored, I am reminded of the immense responsibility entrusted upon me by the people of this great nation. As I take the solemn oath of office, I am acutely aware of the challenges and opportunities that lie ahead.\n",
        "\n",
        "We gather here not just to witness the transfer of power, but to reaffirm the enduring principles upon which our republic stands. We are bound together not by ideology or background, but by our shared belief in the promise of America—a promise of liberty, justice, and opportunity for all.\n",
        "\n",
        "Yet, let us not ignore the fractures that threaten to divide us. We stand at a pivotal moment in history, where the fabric of our society is tested by polarization, inequality, and distrust. But I am here to tell you that the American spirit is resilient, and our capacity for unity is boundless.\n",
        "\n",
        "Today, I pledge to serve all Americans, regardless of race, religion, gender, or creed. I will govern with empathy, compassion, and integrity, guided by the principles of decency and respect for the rule of law. I will seek common ground, not as a sign of weakness, but as a testament to the strength of our democracy.\n",
        "\n",
        "Together, we will confront the urgent challenges of our time: from the existential threat of climate change to the scourge of systemic racism; from the persistent grip of poverty to the rise of authoritarianism abroad. We will rebuild our economy, not just for the few at the top, but for the hardworking families who are the backbone of our nation.\n",
        "\n",
        "But our work does not end at our borders. We must reaffirm our commitment to global cooperation, recognizing that our fates are intertwined with those of our neighbors around the world. We will lead not by the example of our power, but by the power of our example—upholding human rights, promoting democracy, and championing peace and prosperity for all.\n",
        "\n",
        "In the face of adversity, let us draw strength from the words of those who came before us—the pioneers, the visionaries, the ordinary Americans who dared to dream of a more perfect union. Let us never forget that progress is not inevitable, but the result of tireless effort and unwavering determination.\n",
        "\n",
        "So today, let us rededicate ourselves to the timeless values that have guided us through the darkest hours of our history: courage in the face of adversity, resilience in the pursuit of justice, and faith in the promise of tomorrow.\n",
        "\n",
        "My fellow Americans, the road ahead will not be easy, but I am confident that if we stand together, if we work together, if we dream together, we will emerge stronger, more united, and more prosperous than ever before.\n",
        "\n",
        "Thank you, and God bless America."
      ],
      "metadata": {
        "id": "vK9yLIajCZ2w"
      }
    },
    {
      "cell_type": "markdown",
      "source": [
        "#61_Jessica_1890\n",
        "My fellow Americans,\n",
        "\n",
        "As I stand before you today, I am deeply humbled and honored to accept the sacred trust that you have placed in me. With gratitude in my heart and a profound sense of duty, I take the oath of office as your President.\n",
        "\n",
        "In this moment, we mark not only the dawn of a new administration, but also a historic milestone for our nation. For the first time in our history, a woman stands before you as the leader of the free world. Yet, let us not dwell on the novelty of this occasion, but rather on the principles that have guided us since the founding of our republic.\n",
        "\n",
        "Our journey towards equality and justice has been long and arduous, marked by triumphs and setbacks, but always fueled by the unyielding spirit of those who dared to dream of a more inclusive society. Today, we honor their legacy and reaffirm our commitment to building a nation where every person is valued and respected, regardless of gender, race, or background.\n",
        "\n",
        "As we embark on this journey together, let us draw strength from the courage and resilience of those who came before us. From the pioneers who crossed oceans and frontiers in search of a better life, to the suffragists who fought tirelessly for the right to vote, to the countless unsung heroes who have labored in obscurity to build a brighter future for generations to come.\n",
        "\n",
        "But our work is far from over. In the midst of progress, we still confront the shadows of injustice and inequality that linger in our society. We must confront the challenges of poverty, discrimination, and oppression with courage and determination, knowing that the promise of America can only be fulfilled when every person has the opportunity to thrive.\n",
        "\n",
        "Together, we will chart a course towards a more just and prosperous future—a future where every child can pursue their dreams without fear or limitation, where every family can find security and stability, and where every community can flourish in peace and harmony.\n",
        "\n",
        "My fellow Americans, the road ahead will not be easy, but I am confident that if we stand together, if we work together, if we lift each other up with compassion and empathy, we will build a nation worthy of the ideals upon which it was founded.\n",
        "\n",
        "May God bless America, and may He guide us in the days and years to come.\n",
        "\n",
        "Thank you."
      ],
      "metadata": {
        "id": "rvJE5Pl9Crhp"
      }
    },
    {
      "cell_type": "markdown",
      "source": [
        "#62_Monica_2024\n",
        "My fellow Americans,\n",
        "\n",
        "Today, as I stand before you, I am filled with an overwhelming sense of gratitude and responsibility. I am deeply honored and humbled to accept the privilege and trust you have bestowed upon me as your President.\n",
        "\n",
        "In this moment, we celebrate not only the strength of our democracy but also the progress we have made as a nation. As the first Asian American woman to hold this office, I am reminded of the countless individuals who have paved the way for me—the trailblazers, the activists, the immigrants, and the dreamers whose resilience and determination have shaped the fabric of our society.\n",
        "\n",
        "I stand here today as a testament to the enduring promise of America—a promise of opportunity, equality, and justice for all. Yet, let us not forget that this promise remains unfulfilled for too many among us. As we celebrate our victories, we must also confront the injustices that continue to plague our communities—the systemic racism, the discrimination, the barriers to opportunity that still exist.\n",
        "\n",
        "But let us not be discouraged by the challenges we face. Instead, let us be inspired by the countless acts of courage, compassion, and solidarity that define who we are as a people. Let us draw strength from our diversity, knowing that it is our greatest asset and our greatest source of resilience.\n",
        "\n",
        "Together, we will build a future where every person, regardless of race, gender, or background, can achieve their full potential. We will strive to create a more just and inclusive society, where no one is left behind and everyone has the opportunity to thrive.\n",
        "\n",
        "As we embark on this journey together, let us remember that the true measure of our success will not be found in the power we wield or the wealth we accumulate, but in the lives we touch and the hearts we inspire. Let us lead with empathy, compassion, and integrity, knowing that our actions today will shape the world we leave for future generations.\n",
        "\n",
        "My fellow Americans, the road ahead will not be easy, but I am confident that if we stand together, if we work together, if we lift each other up with kindness and compassion, we will build a brighter and more hopeful future for all.\n",
        "\n",
        "Thank you, and may God bless America."
      ],
      "metadata": {
        "id": "WnH_755_Cxwv"
      }
    },
    {
      "cell_type": "markdown",
      "metadata": {
        "id": "EgemWy1DA9Tv"
      },
      "source": [
        "## TF-IDF with scikit-learn"
      ]
    },
    {
      "cell_type": "markdown",
      "metadata": {
        "id": "hAsgcDsaA9Tw"
      },
      "source": [
        "[scikit-learn](https://scikit-learn.org/stable/index.html), imported as `sklearn`, is a popular Python library for machine learning approaches such as clustering, classification, and regression. Though we're not doing any machine learning in this lesson, we're nevertheless going to use scikit-learn's `TfidfVectorizer` and `CountVectorizer`."
      ]
    },
    {
      "cell_type": "markdown",
      "metadata": {
        "id": "B4loEFp0A9Tw"
      },
      "source": [
        "Install scikit-learn (not necessary in Colab)"
      ]
    },
    {
      "cell_type": "code",
      "execution_count": 22,
      "metadata": {
        "id": "AYYebCOAA9Tw"
      },
      "outputs": [],
      "source": [
        "# !pip install sklearn"
      ]
    },
    {
      "cell_type": "markdown",
      "metadata": {
        "id": "ViXOM8oTA9Tx"
      },
      "source": [
        "Import necessary modules and libraries"
      ]
    },
    {
      "cell_type": "code",
      "execution_count": 23,
      "metadata": {
        "id": "DnhlEwMDA9Tx"
      },
      "outputs": [],
      "source": [
        "from sklearn.feature_extraction.text import TfidfVectorizer\n",
        "from sklearn.feature_extraction.text import CountVectorizer\n",
        "import pandas as pd\n"
      ]
    },
    {
      "cell_type": "markdown",
      "metadata": {
        "id": "ZC3dde-vA9Ty"
      },
      "source": [
        "#### Set Directory Path"
      ]
    },
    {
      "cell_type": "markdown",
      "metadata": {
        "id": "jCpTCn8gA9Ty"
      },
      "source": [
        "Below we're setting the directory filepath that contains all the text files that we want to analyze."
      ]
    },
    {
      "cell_type": "code",
      "source": [
        "from google.colab import drive\n",
        "drive.mount('/content/drive')"
      ],
      "metadata": {
        "colab": {
          "base_uri": "https://localhost:8080/"
        },
        "id": "DVv2xL_iGSfe",
        "outputId": "9e3ed3e6-c74c-463c-ceb0-464317937bb9"
      },
      "execution_count": 24,
      "outputs": [
        {
          "output_type": "stream",
          "name": "stdout",
          "text": [
            "Drive already mounted at /content/drive; to attempt to forcibly remount, call drive.mount(\"/content/drive\", force_remount=True).\n"
          ]
        }
      ]
    },
    {
      "cell_type": "code",
      "execution_count": 25,
      "metadata": {
        "id": "1enhkELXA9Ty"
      },
      "outputs": [],
      "source": [
        "my_path=\"/content/drive/MyDrive/CS491/Data/US_Inaugural_Addresses\""
      ]
    },
    {
      "cell_type": "code",
      "source": [
        "file_names=!ls {my_path}\n",
        "file_names=sorted(file_names)\n",
        "# print(file_names)"
      ],
      "metadata": {
        "id": "ODAmYR-NClxo"
      },
      "execution_count": 26,
      "outputs": []
    },
    {
      "cell_type": "code",
      "source": [
        "file_names"
      ],
      "metadata": {
        "id": "nTYfaWsA5U2S",
        "outputId": "94eaf803-976b-459c-ae35-6d3536a52fe3",
        "colab": {
          "base_uri": "https://localhost:8080/"
        }
      },
      "execution_count": 27,
      "outputs": [
        {
          "output_type": "execute_result",
          "data": {
            "text/plain": [
              "['01_washington_1789.txt\\t       22_grant_1873.txt\\t       43_eisenhower_1957.txt',\n",
              " '02_washington_1793.txt\\t       23_hayes_1877.txt\\t       44_kennedy_1961.txt',\n",
              " '03_adams_john_1797.txt\\t       24_garfield_1881.txt\\t       45_johnson_1965.txt',\n",
              " '04_jefferson_1801.txt\\t       25_cleveland_1885.txt\\t       46_nixon_1969.txt',\n",
              " '05_jefferson_1805.txt\\t       26_harrison_1889.txt\\t       47_nixon_1973.txt',\n",
              " '06_madison_1809.txt\\t       27_cleveland_1893.txt\\t       48_carter_1977.txt',\n",
              " '07_madison_1813.txt\\t       28_mckinley_1897.txt\\t       49_reagan_1981.txt',\n",
              " '08_monroe_1817.txt\\t       29_mckinley_1901.txt\\t       50_reagan_1985.txt',\n",
              " '09_monroe_1821.txt\\t       30_roosevelt_theodore_1905.txt  51_bush_george_h_w_1989.txt',\n",
              " '10_adams_john_quincy_1825.txt  31_taft_1909.txt\\t\\t       52_clinton_1993.txt',\n",
              " '11_jackson_1829.txt\\t       32_wilson_1913.txt\\t       53_clinton_1997.txt',\n",
              " '12_jackson_1833.txt\\t       33_wilson_1917.txt\\t       54_bush_george_w_2001.txt',\n",
              " '13_van_buren_1837.txt\\t       34_harding_1921.txt\\t       55_bush_george_w_2005.txt',\n",
              " '14_harrison_1841.txt\\t       35_coolidge_1925.txt\\t       56_obama_2009.txt',\n",
              " '15_polk_1845.txt\\t       36_hoover_1929.txt\\t       57_obama_2013.txt',\n",
              " '16_taylor_1849.txt\\t       37_roosevelt_franklin_1933.txt  58_trump_2017.txt',\n",
              " '17_pierce_1853.txt\\t       38_roosevelt_franklin_1937.txt  59_biden_2021.txt',\n",
              " '18_buchanan_1857.txt\\t       39_roosevelt_franklin_1941.txt  60_Alan_2024.txt',\n",
              " '19_lincoln_1861.txt\\t       40_roosevelt_franklin_1945.txt  61_Jessica_1890.txt',\n",
              " '20_lincoln_1865.txt\\t       41_truman_1949.txt\\t       62_Monica_2024.txt',\n",
              " '21_grant_1869.txt\\t       42_eisenhower_1953.txt']"
            ]
          },
          "metadata": {},
          "execution_count": 27
        }
      ]
    },
    {
      "cell_type": "code",
      "source": [
        "# Split combined string by tabs and newlines, then filter out any empty strings\n",
        "combined_string = ' '.join(file_names)\n",
        "file_list = [name.strip() for name in combined_string.split() if name.strip() and '.' in name]\n",
        "\n",
        "# Remove the extension from each file name\n",
        "text_titles = sorted([name.split('.')[0] for name in file_list])\n",
        "\n"
      ],
      "metadata": {
        "id": "0pMU1xXNC4Wt"
      },
      "execution_count": 28,
      "outputs": []
    },
    {
      "cell_type": "code",
      "source": [
        "text_titles"
      ],
      "metadata": {
        "id": "T46e372F0wyC",
        "outputId": "57df8d22-5430-4cd7-e8e0-47e4d745ba0b",
        "colab": {
          "base_uri": "https://localhost:8080/"
        }
      },
      "execution_count": 29,
      "outputs": [
        {
          "output_type": "execute_result",
          "data": {
            "text/plain": [
              "['01_washington_1789',\n",
              " '02_washington_1793',\n",
              " '03_adams_john_1797',\n",
              " '04_jefferson_1801',\n",
              " '05_jefferson_1805',\n",
              " '06_madison_1809',\n",
              " '07_madison_1813',\n",
              " '08_monroe_1817',\n",
              " '09_monroe_1821',\n",
              " '10_adams_john_quincy_1825',\n",
              " '11_jackson_1829',\n",
              " '12_jackson_1833',\n",
              " '13_van_buren_1837',\n",
              " '14_harrison_1841',\n",
              " '15_polk_1845',\n",
              " '16_taylor_1849',\n",
              " '17_pierce_1853',\n",
              " '18_buchanan_1857',\n",
              " '19_lincoln_1861',\n",
              " '20_lincoln_1865',\n",
              " '21_grant_1869',\n",
              " '22_grant_1873',\n",
              " '23_hayes_1877',\n",
              " '24_garfield_1881',\n",
              " '25_cleveland_1885',\n",
              " '26_harrison_1889',\n",
              " '27_cleveland_1893',\n",
              " '28_mckinley_1897',\n",
              " '29_mckinley_1901',\n",
              " '30_roosevelt_theodore_1905',\n",
              " '31_taft_1909',\n",
              " '32_wilson_1913',\n",
              " '33_wilson_1917',\n",
              " '34_harding_1921',\n",
              " '35_coolidge_1925',\n",
              " '36_hoover_1929',\n",
              " '37_roosevelt_franklin_1933',\n",
              " '38_roosevelt_franklin_1937',\n",
              " '39_roosevelt_franklin_1941',\n",
              " '40_roosevelt_franklin_1945',\n",
              " '41_truman_1949',\n",
              " '42_eisenhower_1953',\n",
              " '43_eisenhower_1957',\n",
              " '44_kennedy_1961',\n",
              " '45_johnson_1965',\n",
              " '46_nixon_1969',\n",
              " '47_nixon_1973',\n",
              " '48_carter_1977',\n",
              " '49_reagan_1981',\n",
              " '50_reagan_1985',\n",
              " '51_bush_george_h_w_1989',\n",
              " '52_clinton_1993',\n",
              " '53_clinton_1997',\n",
              " '54_bush_george_w_2001',\n",
              " '55_bush_george_w_2005',\n",
              " '56_obama_2009',\n",
              " '57_obama_2013',\n",
              " '58_trump_2017',\n",
              " '59_biden_2021',\n",
              " '60_Alan_2024',\n",
              " '61_Jessica_1890',\n",
              " '62_Monica_2024']"
            ]
          },
          "metadata": {},
          "execution_count": 29
        }
      ]
    },
    {
      "cell_type": "code",
      "source": [
        "import glob\n",
        "text_files=glob.glob(f\"{my_path}/*.txt\")\n",
        "text_files=sorted(text_files)"
      ],
      "metadata": {
        "id": "oW_EPBtwIs4B"
      },
      "execution_count": 30,
      "outputs": []
    },
    {
      "cell_type": "markdown",
      "metadata": {
        "id": "yHzdQZDJA9Tz"
      },
      "source": [
        "## Calculate tf–idf"
      ]
    },
    {
      "cell_type": "markdown",
      "metadata": {
        "id": "Y7jmFC8EA9Tz"
      },
      "source": [
        "To calculate tf–idf scores for every word, we're going to use scikit-learn's [`TfidfVectorizer`](https://scikit-learn.org/stable/modules/generated/sklearn.feature_extraction.text.TfidfVectorizer.html).\n",
        "\n",
        "When you initialize TfidfVectorizer, you can choose to set it with different parameters. These parameters will change the way you calculate tf–idf."
      ]
    },
    {
      "cell_type": "markdown",
      "metadata": {
        "id": "52WrethgA9T0"
      },
      "source": [
        "The recommended way to run `TfidfVectorizer` is with smoothing (`smooth_idf = True`) and normalization (`norm='l2'`) turned on. These parameters will better account for differences in text length, and overall produce more meaningful tf–idf scores. Smoothing and L2 normalization are actually the default settings for `TfidfVectorizer`, so to turn them on, you don't need to include any extra code at all."
      ]
    },
    {
      "cell_type": "markdown",
      "metadata": {
        "id": "BkEeXtKOA9T0"
      },
      "source": [
        "Initialize TfidfVectorizer with desired parameters (default smoothing and normalization)"
      ]
    },
    {
      "cell_type": "code",
      "execution_count": 31,
      "metadata": {
        "id": "7SMRQ8P_A9T0"
      },
      "outputs": [],
      "source": [
        "tfidf_vectorizer = TfidfVectorizer(input='filename', stop_words='english')"
      ]
    },
    {
      "cell_type": "markdown",
      "metadata": {
        "id": "mBDXgzq1A9T0"
      },
      "source": [
        "Run TfidfVectorizer on our `text_files`"
      ]
    },
    {
      "cell_type": "code",
      "execution_count": 32,
      "metadata": {
        "id": "SBp_fRBtA9T1"
      },
      "outputs": [],
      "source": [
        "tfidf_vector = tfidf_vectorizer.fit_transform(text_files)\n",
        "#this is a sparse matrix"
      ]
    },
    {
      "cell_type": "markdown",
      "metadata": {
        "id": "DWc-CoEMA9T1"
      },
      "source": [
        "Make a DataFrame out of the resulting tf–idf vector, setting the \"feature names\" or words as columns and the titles as rows"
      ]
    },
    {
      "cell_type": "code",
      "execution_count": 33,
      "metadata": {
        "id": "5hH3zJmjA9T1"
      },
      "outputs": [],
      "source": [
        "tfidf_df = pd.DataFrame(tfidf_vector.toarray(), index=text_titles, columns=tfidf_vectorizer.get_feature_names_out())"
      ]
    },
    {
      "cell_type": "markdown",
      "metadata": {
        "id": "N3J91O1wA9T2"
      },
      "source": [
        "Add column for document frequency aka number of times word appears in all documents"
      ]
    },
    {
      "cell_type": "code",
      "execution_count": 34,
      "metadata": {
        "id": "kyRD_33XA9T2",
        "outputId": "d1f9f736-5541-4cec-ee82-471ee7ad8cb7",
        "colab": {
          "base_uri": "https://localhost:8080/",
          "height": 423
        }
      },
      "outputs": [
        {
          "output_type": "execute_result",
          "data": {
            "text/plain": [
              "                    government  borders  people   war  honor  foreign   men  \\\n",
              "01_washington_1789        0.12     0.00    0.05  0.00   0.00     0.00  0.02   \n",
              "02_washington_1793        0.06     0.00    0.05  0.00   0.08     0.00  0.00   \n",
              "03_adams_john_1797        0.17     0.00    0.19  0.01   0.10     0.12  0.05   \n",
              "04_jefferson_1801         0.16     0.00    0.01  0.02   0.04     0.00  0.04   \n",
              "05_jefferson_1805         0.03     0.00    0.00  0.04   0.00     0.06  0.01   \n",
              "...                        ...      ...     ...   ...    ...      ...   ...   \n",
              "58_trump_2017             0.04     0.10    0.11  0.00   0.00     0.05  0.03   \n",
              "59_biden_2021             0.00     0.03    0.08  0.08   0.04     0.00  0.00   \n",
              "60_Alan_2024              0.00     0.07    0.02  0.00   0.00     0.00  0.00   \n",
              "61_Jessica_1890           0.00     0.00    0.00  0.00   0.04     0.00  0.00   \n",
              "62_Monica_2024            0.00     0.00    0.03  0.00   0.00     0.00  0.00   \n",
              "\n",
              "                    women  children  slave  \n",
              "01_washington_1789   0.00      0.00    0.0  \n",
              "02_washington_1793   0.00      0.00    0.0  \n",
              "03_adams_john_1797   0.00      0.00    0.0  \n",
              "04_jefferson_1801    0.00      0.00    0.0  \n",
              "05_jefferson_1805    0.00      0.02    0.0  \n",
              "...                   ...       ...    ...  \n",
              "58_trump_2017        0.05      0.04    0.0  \n",
              "59_biden_2021        0.02      0.10    0.0  \n",
              "60_Alan_2024         0.00      0.00    0.0  \n",
              "61_Jessica_1890      0.00      0.00    0.0  \n",
              "62_Monica_2024       0.00      0.00    0.0  \n",
              "\n",
              "[62 rows x 10 columns]"
            ],
            "text/html": [
              "\n",
              "  <div id=\"df-080cf81e-6f2a-47e1-9b23-10c87e6802d6\" class=\"colab-df-container\">\n",
              "    <div>\n",
              "<style scoped>\n",
              "    .dataframe tbody tr th:only-of-type {\n",
              "        vertical-align: middle;\n",
              "    }\n",
              "\n",
              "    .dataframe tbody tr th {\n",
              "        vertical-align: top;\n",
              "    }\n",
              "\n",
              "    .dataframe thead th {\n",
              "        text-align: right;\n",
              "    }\n",
              "</style>\n",
              "<table border=\"1\" class=\"dataframe\">\n",
              "  <thead>\n",
              "    <tr style=\"text-align: right;\">\n",
              "      <th></th>\n",
              "      <th>government</th>\n",
              "      <th>borders</th>\n",
              "      <th>people</th>\n",
              "      <th>war</th>\n",
              "      <th>honor</th>\n",
              "      <th>foreign</th>\n",
              "      <th>men</th>\n",
              "      <th>women</th>\n",
              "      <th>children</th>\n",
              "      <th>slave</th>\n",
              "    </tr>\n",
              "  </thead>\n",
              "  <tbody>\n",
              "    <tr>\n",
              "      <th>01_washington_1789</th>\n",
              "      <td>0.12</td>\n",
              "      <td>0.00</td>\n",
              "      <td>0.05</td>\n",
              "      <td>0.00</td>\n",
              "      <td>0.00</td>\n",
              "      <td>0.00</td>\n",
              "      <td>0.02</td>\n",
              "      <td>0.00</td>\n",
              "      <td>0.00</td>\n",
              "      <td>0.0</td>\n",
              "    </tr>\n",
              "    <tr>\n",
              "      <th>02_washington_1793</th>\n",
              "      <td>0.06</td>\n",
              "      <td>0.00</td>\n",
              "      <td>0.05</td>\n",
              "      <td>0.00</td>\n",
              "      <td>0.08</td>\n",
              "      <td>0.00</td>\n",
              "      <td>0.00</td>\n",
              "      <td>0.00</td>\n",
              "      <td>0.00</td>\n",
              "      <td>0.0</td>\n",
              "    </tr>\n",
              "    <tr>\n",
              "      <th>03_adams_john_1797</th>\n",
              "      <td>0.17</td>\n",
              "      <td>0.00</td>\n",
              "      <td>0.19</td>\n",
              "      <td>0.01</td>\n",
              "      <td>0.10</td>\n",
              "      <td>0.12</td>\n",
              "      <td>0.05</td>\n",
              "      <td>0.00</td>\n",
              "      <td>0.00</td>\n",
              "      <td>0.0</td>\n",
              "    </tr>\n",
              "    <tr>\n",
              "      <th>04_jefferson_1801</th>\n",
              "      <td>0.16</td>\n",
              "      <td>0.00</td>\n",
              "      <td>0.01</td>\n",
              "      <td>0.02</td>\n",
              "      <td>0.04</td>\n",
              "      <td>0.00</td>\n",
              "      <td>0.04</td>\n",
              "      <td>0.00</td>\n",
              "      <td>0.00</td>\n",
              "      <td>0.0</td>\n",
              "    </tr>\n",
              "    <tr>\n",
              "      <th>05_jefferson_1805</th>\n",
              "      <td>0.03</td>\n",
              "      <td>0.00</td>\n",
              "      <td>0.00</td>\n",
              "      <td>0.04</td>\n",
              "      <td>0.00</td>\n",
              "      <td>0.06</td>\n",
              "      <td>0.01</td>\n",
              "      <td>0.00</td>\n",
              "      <td>0.02</td>\n",
              "      <td>0.0</td>\n",
              "    </tr>\n",
              "    <tr>\n",
              "      <th>...</th>\n",
              "      <td>...</td>\n",
              "      <td>...</td>\n",
              "      <td>...</td>\n",
              "      <td>...</td>\n",
              "      <td>...</td>\n",
              "      <td>...</td>\n",
              "      <td>...</td>\n",
              "      <td>...</td>\n",
              "      <td>...</td>\n",
              "      <td>...</td>\n",
              "    </tr>\n",
              "    <tr>\n",
              "      <th>58_trump_2017</th>\n",
              "      <td>0.04</td>\n",
              "      <td>0.10</td>\n",
              "      <td>0.11</td>\n",
              "      <td>0.00</td>\n",
              "      <td>0.00</td>\n",
              "      <td>0.05</td>\n",
              "      <td>0.03</td>\n",
              "      <td>0.05</td>\n",
              "      <td>0.04</td>\n",
              "      <td>0.0</td>\n",
              "    </tr>\n",
              "    <tr>\n",
              "      <th>59_biden_2021</th>\n",
              "      <td>0.00</td>\n",
              "      <td>0.03</td>\n",
              "      <td>0.08</td>\n",
              "      <td>0.08</td>\n",
              "      <td>0.04</td>\n",
              "      <td>0.00</td>\n",
              "      <td>0.00</td>\n",
              "      <td>0.02</td>\n",
              "      <td>0.10</td>\n",
              "      <td>0.0</td>\n",
              "    </tr>\n",
              "    <tr>\n",
              "      <th>60_Alan_2024</th>\n",
              "      <td>0.00</td>\n",
              "      <td>0.07</td>\n",
              "      <td>0.02</td>\n",
              "      <td>0.00</td>\n",
              "      <td>0.00</td>\n",
              "      <td>0.00</td>\n",
              "      <td>0.00</td>\n",
              "      <td>0.00</td>\n",
              "      <td>0.00</td>\n",
              "      <td>0.0</td>\n",
              "    </tr>\n",
              "    <tr>\n",
              "      <th>61_Jessica_1890</th>\n",
              "      <td>0.00</td>\n",
              "      <td>0.00</td>\n",
              "      <td>0.00</td>\n",
              "      <td>0.00</td>\n",
              "      <td>0.04</td>\n",
              "      <td>0.00</td>\n",
              "      <td>0.00</td>\n",
              "      <td>0.00</td>\n",
              "      <td>0.00</td>\n",
              "      <td>0.0</td>\n",
              "    </tr>\n",
              "    <tr>\n",
              "      <th>62_Monica_2024</th>\n",
              "      <td>0.00</td>\n",
              "      <td>0.00</td>\n",
              "      <td>0.03</td>\n",
              "      <td>0.00</td>\n",
              "      <td>0.00</td>\n",
              "      <td>0.00</td>\n",
              "      <td>0.00</td>\n",
              "      <td>0.00</td>\n",
              "      <td>0.00</td>\n",
              "      <td>0.0</td>\n",
              "    </tr>\n",
              "  </tbody>\n",
              "</table>\n",
              "<p>62 rows × 10 columns</p>\n",
              "</div>\n",
              "    <div class=\"colab-df-buttons\">\n",
              "\n",
              "  <div class=\"colab-df-container\">\n",
              "    <button class=\"colab-df-convert\" onclick=\"convertToInteractive('df-080cf81e-6f2a-47e1-9b23-10c87e6802d6')\"\n",
              "            title=\"Convert this dataframe to an interactive table.\"\n",
              "            style=\"display:none;\">\n",
              "\n",
              "  <svg xmlns=\"http://www.w3.org/2000/svg\" height=\"24px\" viewBox=\"0 -960 960 960\">\n",
              "    <path d=\"M120-120v-720h720v720H120Zm60-500h600v-160H180v160Zm220 220h160v-160H400v160Zm0 220h160v-160H400v160ZM180-400h160v-160H180v160Zm440 0h160v-160H620v160ZM180-180h160v-160H180v160Zm440 0h160v-160H620v160Z\"/>\n",
              "  </svg>\n",
              "    </button>\n",
              "\n",
              "  <style>\n",
              "    .colab-df-container {\n",
              "      display:flex;\n",
              "      gap: 12px;\n",
              "    }\n",
              "\n",
              "    .colab-df-convert {\n",
              "      background-color: #E8F0FE;\n",
              "      border: none;\n",
              "      border-radius: 50%;\n",
              "      cursor: pointer;\n",
              "      display: none;\n",
              "      fill: #1967D2;\n",
              "      height: 32px;\n",
              "      padding: 0 0 0 0;\n",
              "      width: 32px;\n",
              "    }\n",
              "\n",
              "    .colab-df-convert:hover {\n",
              "      background-color: #E2EBFA;\n",
              "      box-shadow: 0px 1px 2px rgba(60, 64, 67, 0.3), 0px 1px 3px 1px rgba(60, 64, 67, 0.15);\n",
              "      fill: #174EA6;\n",
              "    }\n",
              "\n",
              "    .colab-df-buttons div {\n",
              "      margin-bottom: 4px;\n",
              "    }\n",
              "\n",
              "    [theme=dark] .colab-df-convert {\n",
              "      background-color: #3B4455;\n",
              "      fill: #D2E3FC;\n",
              "    }\n",
              "\n",
              "    [theme=dark] .colab-df-convert:hover {\n",
              "      background-color: #434B5C;\n",
              "      box-shadow: 0px 1px 3px 1px rgba(0, 0, 0, 0.15);\n",
              "      filter: drop-shadow(0px 1px 2px rgba(0, 0, 0, 0.3));\n",
              "      fill: #FFFFFF;\n",
              "    }\n",
              "  </style>\n",
              "\n",
              "    <script>\n",
              "      const buttonEl =\n",
              "        document.querySelector('#df-080cf81e-6f2a-47e1-9b23-10c87e6802d6 button.colab-df-convert');\n",
              "      buttonEl.style.display =\n",
              "        google.colab.kernel.accessAllowed ? 'block' : 'none';\n",
              "\n",
              "      async function convertToInteractive(key) {\n",
              "        const element = document.querySelector('#df-080cf81e-6f2a-47e1-9b23-10c87e6802d6');\n",
              "        const dataTable =\n",
              "          await google.colab.kernel.invokeFunction('convertToInteractive',\n",
              "                                                    [key], {});\n",
              "        if (!dataTable) return;\n",
              "\n",
              "        const docLinkHtml = 'Like what you see? Visit the ' +\n",
              "          '<a target=\"_blank\" href=https://colab.research.google.com/notebooks/data_table.ipynb>data table notebook</a>'\n",
              "          + ' to learn more about interactive tables.';\n",
              "        element.innerHTML = '';\n",
              "        dataTable['output_type'] = 'display_data';\n",
              "        await google.colab.output.renderOutput(dataTable, element);\n",
              "        const docLink = document.createElement('div');\n",
              "        docLink.innerHTML = docLinkHtml;\n",
              "        element.appendChild(docLink);\n",
              "      }\n",
              "    </script>\n",
              "  </div>\n",
              "\n",
              "\n",
              "<div id=\"df-ab7c16b9-f6cc-466b-bae5-2207cb1eb204\">\n",
              "  <button class=\"colab-df-quickchart\" onclick=\"quickchart('df-ab7c16b9-f6cc-466b-bae5-2207cb1eb204')\"\n",
              "            title=\"Suggest charts\"\n",
              "            style=\"display:none;\">\n",
              "\n",
              "<svg xmlns=\"http://www.w3.org/2000/svg\" height=\"24px\"viewBox=\"0 0 24 24\"\n",
              "     width=\"24px\">\n",
              "    <g>\n",
              "        <path d=\"M19 3H5c-1.1 0-2 .9-2 2v14c0 1.1.9 2 2 2h14c1.1 0 2-.9 2-2V5c0-1.1-.9-2-2-2zM9 17H7v-7h2v7zm4 0h-2V7h2v10zm4 0h-2v-4h2v4z\"/>\n",
              "    </g>\n",
              "</svg>\n",
              "  </button>\n",
              "\n",
              "<style>\n",
              "  .colab-df-quickchart {\n",
              "      --bg-color: #E8F0FE;\n",
              "      --fill-color: #1967D2;\n",
              "      --hover-bg-color: #E2EBFA;\n",
              "      --hover-fill-color: #174EA6;\n",
              "      --disabled-fill-color: #AAA;\n",
              "      --disabled-bg-color: #DDD;\n",
              "  }\n",
              "\n",
              "  [theme=dark] .colab-df-quickchart {\n",
              "      --bg-color: #3B4455;\n",
              "      --fill-color: #D2E3FC;\n",
              "      --hover-bg-color: #434B5C;\n",
              "      --hover-fill-color: #FFFFFF;\n",
              "      --disabled-bg-color: #3B4455;\n",
              "      --disabled-fill-color: #666;\n",
              "  }\n",
              "\n",
              "  .colab-df-quickchart {\n",
              "    background-color: var(--bg-color);\n",
              "    border: none;\n",
              "    border-radius: 50%;\n",
              "    cursor: pointer;\n",
              "    display: none;\n",
              "    fill: var(--fill-color);\n",
              "    height: 32px;\n",
              "    padding: 0;\n",
              "    width: 32px;\n",
              "  }\n",
              "\n",
              "  .colab-df-quickchart:hover {\n",
              "    background-color: var(--hover-bg-color);\n",
              "    box-shadow: 0 1px 2px rgba(60, 64, 67, 0.3), 0 1px 3px 1px rgba(60, 64, 67, 0.15);\n",
              "    fill: var(--button-hover-fill-color);\n",
              "  }\n",
              "\n",
              "  .colab-df-quickchart-complete:disabled,\n",
              "  .colab-df-quickchart-complete:disabled:hover {\n",
              "    background-color: var(--disabled-bg-color);\n",
              "    fill: var(--disabled-fill-color);\n",
              "    box-shadow: none;\n",
              "  }\n",
              "\n",
              "  .colab-df-spinner {\n",
              "    border: 2px solid var(--fill-color);\n",
              "    border-color: transparent;\n",
              "    border-bottom-color: var(--fill-color);\n",
              "    animation:\n",
              "      spin 1s steps(1) infinite;\n",
              "  }\n",
              "\n",
              "  @keyframes spin {\n",
              "    0% {\n",
              "      border-color: transparent;\n",
              "      border-bottom-color: var(--fill-color);\n",
              "      border-left-color: var(--fill-color);\n",
              "    }\n",
              "    20% {\n",
              "      border-color: transparent;\n",
              "      border-left-color: var(--fill-color);\n",
              "      border-top-color: var(--fill-color);\n",
              "    }\n",
              "    30% {\n",
              "      border-color: transparent;\n",
              "      border-left-color: var(--fill-color);\n",
              "      border-top-color: var(--fill-color);\n",
              "      border-right-color: var(--fill-color);\n",
              "    }\n",
              "    40% {\n",
              "      border-color: transparent;\n",
              "      border-right-color: var(--fill-color);\n",
              "      border-top-color: var(--fill-color);\n",
              "    }\n",
              "    60% {\n",
              "      border-color: transparent;\n",
              "      border-right-color: var(--fill-color);\n",
              "    }\n",
              "    80% {\n",
              "      border-color: transparent;\n",
              "      border-right-color: var(--fill-color);\n",
              "      border-bottom-color: var(--fill-color);\n",
              "    }\n",
              "    90% {\n",
              "      border-color: transparent;\n",
              "      border-bottom-color: var(--fill-color);\n",
              "    }\n",
              "  }\n",
              "</style>\n",
              "\n",
              "  <script>\n",
              "    async function quickchart(key) {\n",
              "      const quickchartButtonEl =\n",
              "        document.querySelector('#' + key + ' button');\n",
              "      quickchartButtonEl.disabled = true;  // To prevent multiple clicks.\n",
              "      quickchartButtonEl.classList.add('colab-df-spinner');\n",
              "      try {\n",
              "        const charts = await google.colab.kernel.invokeFunction(\n",
              "            'suggestCharts', [key], {});\n",
              "      } catch (error) {\n",
              "        console.error('Error during call to suggestCharts:', error);\n",
              "      }\n",
              "      quickchartButtonEl.classList.remove('colab-df-spinner');\n",
              "      quickchartButtonEl.classList.add('colab-df-quickchart-complete');\n",
              "    }\n",
              "    (() => {\n",
              "      let quickchartButtonEl =\n",
              "        document.querySelector('#df-ab7c16b9-f6cc-466b-bae5-2207cb1eb204 button');\n",
              "      quickchartButtonEl.style.display =\n",
              "        google.colab.kernel.accessAllowed ? 'block' : 'none';\n",
              "    })();\n",
              "  </script>\n",
              "</div>\n",
              "\n",
              "    </div>\n",
              "  </div>\n"
            ],
            "application/vnd.google.colaboratory.intrinsic+json": {
              "type": "dataframe",
              "summary": "{\n  \"name\": \"tfidf_slice\",\n  \"rows\": 62,\n  \"fields\": [\n    {\n      \"column\": \"government\",\n      \"properties\": {\n        \"dtype\": \"number\",\n        \"std\": 0.06966206105096084,\n        \"min\": 0.0,\n        \"max\": 0.27,\n        \"num_unique_values\": 21,\n        \"samples\": [\n          0.12,\n          0.11,\n          0.02\n        ],\n        \"semantic_type\": \"\",\n        \"description\": \"\"\n      }\n    },\n    {\n      \"column\": \"borders\",\n      \"properties\": {\n        \"dtype\": \"number\",\n        \"std\": 0.01771147811169668,\n        \"min\": 0.0,\n        \"max\": 0.1,\n        \"num_unique_values\": 5,\n        \"samples\": [\n          0.03,\n          0.07,\n          0.05\n        ],\n        \"semantic_type\": \"\",\n        \"description\": \"\"\n      }\n    },\n    {\n      \"column\": \"people\",\n      \"properties\": {\n        \"dtype\": \"number\",\n        \"std\": 0.052016197696919904,\n        \"min\": 0.0,\n        \"max\": 0.22,\n        \"num_unique_values\": 20,\n        \"samples\": [\n          0.05,\n          0.12,\n          0.17\n        ],\n        \"semantic_type\": \"\",\n        \"description\": \"\"\n      }\n    },\n    {\n      \"column\": \"war\",\n      \"properties\": {\n        \"dtype\": \"number\",\n        \"std\": 0.051429332127368325,\n        \"min\": 0.0,\n        \"max\": 0.27,\n        \"num_unique_values\": 13,\n        \"samples\": [\n          0.07,\n          0.08,\n          0.0\n        ],\n        \"semantic_type\": \"\",\n        \"description\": \"\"\n      }\n    },\n    {\n      \"column\": \"honor\",\n      \"properties\": {\n        \"dtype\": \"number\",\n        \"std\": 0.020699047206617176,\n        \"min\": 0.0,\n        \"max\": 0.1,\n        \"num_unique_values\": 8,\n        \"samples\": [\n          0.08,\n          0.02,\n          0.0\n        ],\n        \"semantic_type\": \"\",\n        \"description\": \"\"\n      }\n    },\n    {\n      \"column\": \"foreign\",\n      \"properties\": {\n        \"dtype\": \"number\",\n        \"std\": 0.029338286603249067,\n        \"min\": 0.0,\n        \"max\": 0.12,\n        \"num_unique_values\": 12,\n        \"samples\": [\n          0.09,\n          0.03,\n          0.0\n        ],\n        \"semantic_type\": \"\",\n        \"description\": \"\"\n      }\n    },\n    {\n      \"column\": \"men\",\n      \"properties\": {\n        \"dtype\": \"number\",\n        \"std\": 0.03007306456045198,\n        \"min\": 0.0,\n        \"max\": 0.15,\n        \"num_unique_values\": 12,\n        \"samples\": [\n          0.06,\n          0.11,\n          0.02\n        ],\n        \"semantic_type\": \"\",\n        \"description\": \"\"\n      }\n    },\n    {\n      \"column\": \"women\",\n      \"properties\": {\n        \"dtype\": \"number\",\n        \"std\": 0.02272312831786094,\n        \"min\": 0.0,\n        \"max\": 0.1,\n        \"num_unique_values\": 10,\n        \"samples\": [\n          0.02,\n          0.1,\n          0.05\n        ],\n        \"semantic_type\": \"\",\n        \"description\": \"\"\n      }\n    },\n    {\n      \"column\": \"children\",\n      \"properties\": {\n        \"dtype\": \"number\",\n        \"std\": 0.03032740434420669,\n        \"min\": 0.0,\n        \"max\": 0.1,\n        \"num_unique_values\": 10,\n        \"samples\": [\n          0.09,\n          0.02,\n          0.04\n        ],\n        \"semantic_type\": \"\",\n        \"description\": \"\"\n      }\n    },\n    {\n      \"column\": \"slave\",\n      \"properties\": {\n        \"dtype\": \"number\",\n        \"std\": 0.01384453226028534,\n        \"min\": 0.0,\n        \"max\": 0.09,\n        \"num_unique_values\": 5,\n        \"samples\": [\n          0.02,\n          0.03,\n          0.09\n        ],\n        \"semantic_type\": \"\",\n        \"description\": \"\"\n      }\n    }\n  ]\n}"
            }
          },
          "metadata": {},
          "execution_count": 34
        }
      ],
      "source": [
        "tfidf_slice = tfidf_df[['government', 'borders', 'people', 'war', 'honor','foreign', 'men', 'women', 'children','slave']]\n",
        "tfidf_slice.sort_index().round(decimals=2)"
      ]
    },
    {
      "cell_type": "code",
      "source": [
        "tfidf_slice = tfidf_df[['fought','liberty', 'freedom']]\n",
        "tfidf_slice.sort_index().round(decimals=2)\n"
      ],
      "metadata": {
        "id": "6oFmX2aqukMZ",
        "outputId": "ce2ec121-b03e-4d74-d801-e9f32d94ad81",
        "colab": {
          "base_uri": "https://localhost:8080/",
          "height": 423
        }
      },
      "execution_count": 35,
      "outputs": [
        {
          "output_type": "execute_result",
          "data": {
            "text/plain": [
              "                    fought  liberty  freedom\n",
              "01_washington_1789    0.00     0.02     0.00\n",
              "02_washington_1793    0.00     0.00     0.00\n",
              "03_adams_john_1797    0.00     0.04     0.00\n",
              "04_jefferson_1801     0.00     0.05     0.07\n",
              "05_jefferson_1805     0.00     0.04     0.03\n",
              "...                    ...      ...      ...\n",
              "58_trump_2017         0.00     0.00     0.00\n",
              "59_biden_2021         0.00     0.02     0.00\n",
              "60_Alan_2024          0.00     0.03     0.00\n",
              "61_Jessica_1890       0.09     0.00     0.00\n",
              "62_Monica_2024        0.00     0.00     0.00\n",
              "\n",
              "[62 rows x 3 columns]"
            ],
            "text/html": [
              "\n",
              "  <div id=\"df-7c85450e-7702-49a0-8a39-6f91d4532904\" class=\"colab-df-container\">\n",
              "    <div>\n",
              "<style scoped>\n",
              "    .dataframe tbody tr th:only-of-type {\n",
              "        vertical-align: middle;\n",
              "    }\n",
              "\n",
              "    .dataframe tbody tr th {\n",
              "        vertical-align: top;\n",
              "    }\n",
              "\n",
              "    .dataframe thead th {\n",
              "        text-align: right;\n",
              "    }\n",
              "</style>\n",
              "<table border=\"1\" class=\"dataframe\">\n",
              "  <thead>\n",
              "    <tr style=\"text-align: right;\">\n",
              "      <th></th>\n",
              "      <th>fought</th>\n",
              "      <th>liberty</th>\n",
              "      <th>freedom</th>\n",
              "    </tr>\n",
              "  </thead>\n",
              "  <tbody>\n",
              "    <tr>\n",
              "      <th>01_washington_1789</th>\n",
              "      <td>0.00</td>\n",
              "      <td>0.02</td>\n",
              "      <td>0.00</td>\n",
              "    </tr>\n",
              "    <tr>\n",
              "      <th>02_washington_1793</th>\n",
              "      <td>0.00</td>\n",
              "      <td>0.00</td>\n",
              "      <td>0.00</td>\n",
              "    </tr>\n",
              "    <tr>\n",
              "      <th>03_adams_john_1797</th>\n",
              "      <td>0.00</td>\n",
              "      <td>0.04</td>\n",
              "      <td>0.00</td>\n",
              "    </tr>\n",
              "    <tr>\n",
              "      <th>04_jefferson_1801</th>\n",
              "      <td>0.00</td>\n",
              "      <td>0.05</td>\n",
              "      <td>0.07</td>\n",
              "    </tr>\n",
              "    <tr>\n",
              "      <th>05_jefferson_1805</th>\n",
              "      <td>0.00</td>\n",
              "      <td>0.04</td>\n",
              "      <td>0.03</td>\n",
              "    </tr>\n",
              "    <tr>\n",
              "      <th>...</th>\n",
              "      <td>...</td>\n",
              "      <td>...</td>\n",
              "      <td>...</td>\n",
              "    </tr>\n",
              "    <tr>\n",
              "      <th>58_trump_2017</th>\n",
              "      <td>0.00</td>\n",
              "      <td>0.00</td>\n",
              "      <td>0.00</td>\n",
              "    </tr>\n",
              "    <tr>\n",
              "      <th>59_biden_2021</th>\n",
              "      <td>0.00</td>\n",
              "      <td>0.02</td>\n",
              "      <td>0.00</td>\n",
              "    </tr>\n",
              "    <tr>\n",
              "      <th>60_Alan_2024</th>\n",
              "      <td>0.00</td>\n",
              "      <td>0.03</td>\n",
              "      <td>0.00</td>\n",
              "    </tr>\n",
              "    <tr>\n",
              "      <th>61_Jessica_1890</th>\n",
              "      <td>0.09</td>\n",
              "      <td>0.00</td>\n",
              "      <td>0.00</td>\n",
              "    </tr>\n",
              "    <tr>\n",
              "      <th>62_Monica_2024</th>\n",
              "      <td>0.00</td>\n",
              "      <td>0.00</td>\n",
              "      <td>0.00</td>\n",
              "    </tr>\n",
              "  </tbody>\n",
              "</table>\n",
              "<p>62 rows × 3 columns</p>\n",
              "</div>\n",
              "    <div class=\"colab-df-buttons\">\n",
              "\n",
              "  <div class=\"colab-df-container\">\n",
              "    <button class=\"colab-df-convert\" onclick=\"convertToInteractive('df-7c85450e-7702-49a0-8a39-6f91d4532904')\"\n",
              "            title=\"Convert this dataframe to an interactive table.\"\n",
              "            style=\"display:none;\">\n",
              "\n",
              "  <svg xmlns=\"http://www.w3.org/2000/svg\" height=\"24px\" viewBox=\"0 -960 960 960\">\n",
              "    <path d=\"M120-120v-720h720v720H120Zm60-500h600v-160H180v160Zm220 220h160v-160H400v160Zm0 220h160v-160H400v160ZM180-400h160v-160H180v160Zm440 0h160v-160H620v160ZM180-180h160v-160H180v160Zm440 0h160v-160H620v160Z\"/>\n",
              "  </svg>\n",
              "    </button>\n",
              "\n",
              "  <style>\n",
              "    .colab-df-container {\n",
              "      display:flex;\n",
              "      gap: 12px;\n",
              "    }\n",
              "\n",
              "    .colab-df-convert {\n",
              "      background-color: #E8F0FE;\n",
              "      border: none;\n",
              "      border-radius: 50%;\n",
              "      cursor: pointer;\n",
              "      display: none;\n",
              "      fill: #1967D2;\n",
              "      height: 32px;\n",
              "      padding: 0 0 0 0;\n",
              "      width: 32px;\n",
              "    }\n",
              "\n",
              "    .colab-df-convert:hover {\n",
              "      background-color: #E2EBFA;\n",
              "      box-shadow: 0px 1px 2px rgba(60, 64, 67, 0.3), 0px 1px 3px 1px rgba(60, 64, 67, 0.15);\n",
              "      fill: #174EA6;\n",
              "    }\n",
              "\n",
              "    .colab-df-buttons div {\n",
              "      margin-bottom: 4px;\n",
              "    }\n",
              "\n",
              "    [theme=dark] .colab-df-convert {\n",
              "      background-color: #3B4455;\n",
              "      fill: #D2E3FC;\n",
              "    }\n",
              "\n",
              "    [theme=dark] .colab-df-convert:hover {\n",
              "      background-color: #434B5C;\n",
              "      box-shadow: 0px 1px 3px 1px rgba(0, 0, 0, 0.15);\n",
              "      filter: drop-shadow(0px 1px 2px rgba(0, 0, 0, 0.3));\n",
              "      fill: #FFFFFF;\n",
              "    }\n",
              "  </style>\n",
              "\n",
              "    <script>\n",
              "      const buttonEl =\n",
              "        document.querySelector('#df-7c85450e-7702-49a0-8a39-6f91d4532904 button.colab-df-convert');\n",
              "      buttonEl.style.display =\n",
              "        google.colab.kernel.accessAllowed ? 'block' : 'none';\n",
              "\n",
              "      async function convertToInteractive(key) {\n",
              "        const element = document.querySelector('#df-7c85450e-7702-49a0-8a39-6f91d4532904');\n",
              "        const dataTable =\n",
              "          await google.colab.kernel.invokeFunction('convertToInteractive',\n",
              "                                                    [key], {});\n",
              "        if (!dataTable) return;\n",
              "\n",
              "        const docLinkHtml = 'Like what you see? Visit the ' +\n",
              "          '<a target=\"_blank\" href=https://colab.research.google.com/notebooks/data_table.ipynb>data table notebook</a>'\n",
              "          + ' to learn more about interactive tables.';\n",
              "        element.innerHTML = '';\n",
              "        dataTable['output_type'] = 'display_data';\n",
              "        await google.colab.output.renderOutput(dataTable, element);\n",
              "        const docLink = document.createElement('div');\n",
              "        docLink.innerHTML = docLinkHtml;\n",
              "        element.appendChild(docLink);\n",
              "      }\n",
              "    </script>\n",
              "  </div>\n",
              "\n",
              "\n",
              "<div id=\"df-3f66fbe0-3689-42e3-afbb-cba2c8e7f9b2\">\n",
              "  <button class=\"colab-df-quickchart\" onclick=\"quickchart('df-3f66fbe0-3689-42e3-afbb-cba2c8e7f9b2')\"\n",
              "            title=\"Suggest charts\"\n",
              "            style=\"display:none;\">\n",
              "\n",
              "<svg xmlns=\"http://www.w3.org/2000/svg\" height=\"24px\"viewBox=\"0 0 24 24\"\n",
              "     width=\"24px\">\n",
              "    <g>\n",
              "        <path d=\"M19 3H5c-1.1 0-2 .9-2 2v14c0 1.1.9 2 2 2h14c1.1 0 2-.9 2-2V5c0-1.1-.9-2-2-2zM9 17H7v-7h2v7zm4 0h-2V7h2v10zm4 0h-2v-4h2v4z\"/>\n",
              "    </g>\n",
              "</svg>\n",
              "  </button>\n",
              "\n",
              "<style>\n",
              "  .colab-df-quickchart {\n",
              "      --bg-color: #E8F0FE;\n",
              "      --fill-color: #1967D2;\n",
              "      --hover-bg-color: #E2EBFA;\n",
              "      --hover-fill-color: #174EA6;\n",
              "      --disabled-fill-color: #AAA;\n",
              "      --disabled-bg-color: #DDD;\n",
              "  }\n",
              "\n",
              "  [theme=dark] .colab-df-quickchart {\n",
              "      --bg-color: #3B4455;\n",
              "      --fill-color: #D2E3FC;\n",
              "      --hover-bg-color: #434B5C;\n",
              "      --hover-fill-color: #FFFFFF;\n",
              "      --disabled-bg-color: #3B4455;\n",
              "      --disabled-fill-color: #666;\n",
              "  }\n",
              "\n",
              "  .colab-df-quickchart {\n",
              "    background-color: var(--bg-color);\n",
              "    border: none;\n",
              "    border-radius: 50%;\n",
              "    cursor: pointer;\n",
              "    display: none;\n",
              "    fill: var(--fill-color);\n",
              "    height: 32px;\n",
              "    padding: 0;\n",
              "    width: 32px;\n",
              "  }\n",
              "\n",
              "  .colab-df-quickchart:hover {\n",
              "    background-color: var(--hover-bg-color);\n",
              "    box-shadow: 0 1px 2px rgba(60, 64, 67, 0.3), 0 1px 3px 1px rgba(60, 64, 67, 0.15);\n",
              "    fill: var(--button-hover-fill-color);\n",
              "  }\n",
              "\n",
              "  .colab-df-quickchart-complete:disabled,\n",
              "  .colab-df-quickchart-complete:disabled:hover {\n",
              "    background-color: var(--disabled-bg-color);\n",
              "    fill: var(--disabled-fill-color);\n",
              "    box-shadow: none;\n",
              "  }\n",
              "\n",
              "  .colab-df-spinner {\n",
              "    border: 2px solid var(--fill-color);\n",
              "    border-color: transparent;\n",
              "    border-bottom-color: var(--fill-color);\n",
              "    animation:\n",
              "      spin 1s steps(1) infinite;\n",
              "  }\n",
              "\n",
              "  @keyframes spin {\n",
              "    0% {\n",
              "      border-color: transparent;\n",
              "      border-bottom-color: var(--fill-color);\n",
              "      border-left-color: var(--fill-color);\n",
              "    }\n",
              "    20% {\n",
              "      border-color: transparent;\n",
              "      border-left-color: var(--fill-color);\n",
              "      border-top-color: var(--fill-color);\n",
              "    }\n",
              "    30% {\n",
              "      border-color: transparent;\n",
              "      border-left-color: var(--fill-color);\n",
              "      border-top-color: var(--fill-color);\n",
              "      border-right-color: var(--fill-color);\n",
              "    }\n",
              "    40% {\n",
              "      border-color: transparent;\n",
              "      border-right-color: var(--fill-color);\n",
              "      border-top-color: var(--fill-color);\n",
              "    }\n",
              "    60% {\n",
              "      border-color: transparent;\n",
              "      border-right-color: var(--fill-color);\n",
              "    }\n",
              "    80% {\n",
              "      border-color: transparent;\n",
              "      border-right-color: var(--fill-color);\n",
              "      border-bottom-color: var(--fill-color);\n",
              "    }\n",
              "    90% {\n",
              "      border-color: transparent;\n",
              "      border-bottom-color: var(--fill-color);\n",
              "    }\n",
              "  }\n",
              "</style>\n",
              "\n",
              "  <script>\n",
              "    async function quickchart(key) {\n",
              "      const quickchartButtonEl =\n",
              "        document.querySelector('#' + key + ' button');\n",
              "      quickchartButtonEl.disabled = true;  // To prevent multiple clicks.\n",
              "      quickchartButtonEl.classList.add('colab-df-spinner');\n",
              "      try {\n",
              "        const charts = await google.colab.kernel.invokeFunction(\n",
              "            'suggestCharts', [key], {});\n",
              "      } catch (error) {\n",
              "        console.error('Error during call to suggestCharts:', error);\n",
              "      }\n",
              "      quickchartButtonEl.classList.remove('colab-df-spinner');\n",
              "      quickchartButtonEl.classList.add('colab-df-quickchart-complete');\n",
              "    }\n",
              "    (() => {\n",
              "      let quickchartButtonEl =\n",
              "        document.querySelector('#df-3f66fbe0-3689-42e3-afbb-cba2c8e7f9b2 button');\n",
              "      quickchartButtonEl.style.display =\n",
              "        google.colab.kernel.accessAllowed ? 'block' : 'none';\n",
              "    })();\n",
              "  </script>\n",
              "</div>\n",
              "\n",
              "    </div>\n",
              "  </div>\n"
            ],
            "application/vnd.google.colaboratory.intrinsic+json": {
              "type": "dataframe",
              "summary": "{\n  \"name\": \"tfidf_slice\",\n  \"rows\": 62,\n  \"fields\": [\n    {\n      \"column\": \"fought\",\n      \"properties\": {\n        \"dtype\": \"number\",\n        \"std\": 0.014674324555610919,\n        \"min\": 0.0,\n        \"max\": 0.09,\n        \"num_unique_values\": 5,\n        \"samples\": [\n          0.02,\n          0.09,\n          0.03\n        ],\n        \"semantic_type\": \"\",\n        \"description\": \"\"\n      }\n    },\n    {\n      \"column\": \"liberty\",\n      \"properties\": {\n        \"dtype\": \"number\",\n        \"std\": 0.0296391126098312,\n        \"min\": 0.0,\n        \"max\": 0.18,\n        \"num_unique_values\": 10,\n        \"samples\": [\n          0.09,\n          0.0,\n          0.03\n        ],\n        \"semantic_type\": \"\",\n        \"description\": \"\"\n      }\n    },\n    {\n      \"column\": \"freedom\",\n      \"properties\": {\n        \"dtype\": \"number\",\n        \"std\": 0.06100537032822756,\n        \"min\": 0.0,\n        \"max\": 0.36,\n        \"num_unique_values\": 16,\n        \"samples\": [\n          0.0,\n          0.07,\n          0.08\n        ],\n        \"semantic_type\": \"\",\n        \"description\": \"\"\n      }\n    }\n  ]\n}"
            }
          },
          "metadata": {},
          "execution_count": 35
        }
      ]
    },
    {
      "cell_type": "markdown",
      "source": [
        "# **A primitive search engine**"
      ],
      "metadata": {
        "id": "Oey_a8MI0B5B"
      }
    },
    {
      "cell_type": "code",
      "source": [
        "# Slice for specific words and explicitly create a copy to avoid SettingWithCopyWarning\n",
        "tfidf_slice = tfidf_df[['time', 'honor', 'war']].copy()\n",
        "\n",
        "# Sum the TF-IDF scores for the selected words in each document\n",
        "tfidf_slice['total_score'] = tfidf_slice.sum(axis=1)\n",
        "\n",
        "\n",
        "# Sort documents by total_score in descending order to see which has the highest score\n",
        "sorted_docs = tfidf_slice.sort_values(by='total_score', ascending=False)\n",
        "\n",
        "# Get the index (document ID) of the document with the highest total_score\n",
        "best_fit_document_index = sorted_docs.index[0]\n",
        "\n",
        "\n",
        "# Select the top 3 documents\n",
        "top_documents = sorted_docs.head(3)\n",
        "\n",
        "# Display the indices (document IDs) and scores of the top 3 documents\n",
        "print(\"Top 3 documents and their scores:\")\n",
        "print(top_documents[['total_score']])\n",
        "\n",
        "\n",
        "\n"
      ],
      "metadata": {
        "colab": {
          "base_uri": "https://localhost:8080/"
        },
        "id": "nybKJz3oyxMl",
        "outputId": "38edb480-e25e-4057-a662-f5eb98f2ab4f"
      },
      "execution_count": 36,
      "outputs": [
        {
          "output_type": "stream",
          "name": "stdout",
          "text": [
            "Top 3 documents and their scores:\n",
            "                 total_score\n",
            "20_lincoln_1865     0.291909\n",
            "07_madison_1813     0.279584\n",
            "09_monroe_1821      0.176053\n"
          ]
        }
      ]
    },
    {
      "cell_type": "markdown",
      "source": [
        "# **Document similarity**"
      ],
      "metadata": {
        "id": "NFsHUAwu89sO"
      }
    },
    {
      "cell_type": "code",
      "source": [
        "import numpy as np\n",
        "import pandas as pd\n",
        "import seaborn as sns\n",
        "import matplotlib.pyplot as plt\n",
        "\n",
        "\n",
        "# Compute the dot product\n",
        "similarity_matrix = tfidf_df.dot(tfidf_df.T)\n",
        "\n",
        "# Generate a heatmap\n",
        "plt.figure(figsize=(10, 8))\n",
        "sns.heatmap(similarity_matrix, cmap=\"YlGnBu\")\n",
        "plt.title('Document Similarity Heatmap')\n",
        "plt.xlabel('Document Index')\n",
        "plt.ylabel('Document Index')\n",
        "plt.show()\n"
      ],
      "metadata": {
        "colab": {
          "base_uri": "https://localhost:8080/",
          "height": 792
        },
        "id": "90MeL1yb9J8x",
        "outputId": "db0a3b5a-753a-4230-811d-17b05c9f2182"
      },
      "execution_count": 37,
      "outputs": [
        {
          "output_type": "display_data",
          "data": {
            "text/plain": [
              "<Figure size 1000x800 with 2 Axes>"
            ],
            "image/png": "[encoded data removed]"
          },
          "metadata": {}
        }
      ]
    },
    {
      "cell_type": "markdown",
      "source": [
        "**The cell below will take the title of one of the speeches and return the 3 most similar speechs as determined by cosine similarity.**"
      ],
      "metadata": {
        "id": "qK-nysWNooCC"
      }
    },
    {
      "cell_type": "code",
      "source": [
        "from sklearn.metrics.pairwise import cosine_similarity\n",
        "\n",
        "def find_most_similar_docs_by_title(tfidf_vector, target_doc_title, text_titles, top_n=3):\n",
        "    # Find the index of the target document based on its title\n",
        "    if target_doc_title in text_titles:\n",
        "        target_doc_index = text_titles.index(target_doc_title)\n",
        "    else:\n",
        "        return \"The document title does not exist in the corpus.\"\n",
        "\n",
        "    # Calculate cosine similarity between the target document and all documents in the corpus\n",
        "    cosine_similarities = cosine_similarity(tfidf_vector[target_doc_index], tfidf_vector).flatten()\n",
        "\n",
        "    # Get the indices of the top_n most similar documents, excluding the target document itself\n",
        "    most_similar_doc_indices = cosine_similarities.argsort()[-top_n-1:-1][::-1]\n",
        "\n",
        "    # Map indices to titles\n",
        "    most_similar_doc_titles = [text_titles[i] for i in most_similar_doc_indices]\n",
        "\n",
        "    # Return the titles of the top_n most similar documents\n",
        "    return most_similar_doc_titles\n",
        "\n",
        "# Example usage\n",
        "#target_doc_title = \"60_Alan_2024\"\n",
        "#target_doc_title = \"61_Jessica_1890\"\n",
        "target_doc_title = \"62_Monica_2024\"\n",
        "similar_docs_titles = find_most_similar_docs_by_title(tfidf_vector, target_doc_title, text_titles)\n",
        "print(\"Titles of the 3 most similar documents:\", similar_docs_titles)\n"
      ],
      "metadata": {
        "id": "LUEGJK10mzMm",
        "outputId": "1b219248-d047-4602-eb48-3f9bff62294f",
        "colab": {
          "base_uri": "https://localhost:8080/"
        }
      },
      "execution_count": 41,
      "outputs": [
        {
          "output_type": "stream",
          "name": "stdout",
          "text": [
            "Titles of the 3 most similar documents: ['61_Jessica_1890', '60_Alan_2024', '52_clinton_1993']\n"
          ]
        }
      ]
    }
  ],
  "metadata": {
    "kernelspec": {
      "display_name": "Python 3",
      "language": "python",
      "name": "python3"
    },
    "language_info": {
      "codemirror_mode": {
        "name": "ipython",
        "version": 3
      },
      "file_extension": ".py",
      "mimetype": "text/x-python",
      "name": "python",
      "nbconvert_exporter": "python",
      "pygments_lexer": "ipython3",
      "version": "3.8.8"
    },
    "colab": {
      "provenance": [],
      "toc_visible": true,
      "include_colab_link": true
    }
  },
  "nbformat": 4,
  "nbformat_minor": 0
}